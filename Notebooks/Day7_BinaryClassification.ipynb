{
  "nbformat": 4,
  "nbformat_minor": 0,
  "metadata": {
    "colab": {
      "name": "Day7_BinaryClassification.ipynb",
      "provenance": []
    },
    "kernelspec": {
      "name": "python3",
      "display_name": "Python 3"
    }
  },
  "cells": [
    {
      "cell_type": "markdown",
      "metadata": {
        "id": "66Bfk6vp1GGD"
      },
      "source": [
        "#Binary Classification using MLP Model"
      ]
    },
    {
      "cell_type": "markdown",
      "metadata": {
        "id": "x_9UjrAterFv"
      },
      "source": [
        "####The objective of this project is to train a MultiLayer Perceptron and predict with the given features whether a oerson has cardiovascular disease or not.<br>\n",
        "\n",
        "With this dataset we will see how to :\n",
        "* Define what is classification vs Regression\n",
        "*  Explore Dqataset i.e perform Exploratory Data Analysis\n",
        "* Pre-process \n",
        "* Split Dataset for training and testing purpose\n",
        "* Implement all the concepts which were theoritecally introduced in Intro to MLP notebook.\n",
        "* Build MLP model\n",
        "* Evaluating the model\n",
        "\n",
        "You can download the dataset from [here.](https://www.kaggle.com/sulianova/cardiovascular-disease-dataset)\n",
        "\n",
        "\n"
      ]
    },
    {
      "cell_type": "markdown",
      "metadata": {
        "id": "A3tZY7N4x9_u"
      },
      "source": [
        "We will use the following tools and libraries to implement this project. \n",
        "\n",
        "*   Tensorflow \n",
        "*   Numpy, Pandas\n",
        "*   Matplotlib, Seaborn\n"
      ]
    },
    {
      "cell_type": "markdown",
      "metadata": {
        "id": "-UgnlHRu1aQS"
      },
      "source": [
        "##Classification vs Regression\n",
        "\n",
        "* **Classification** is a task where you are trying to predict a *class* to which the input belongs to, where the classes are pre-defined during the training.\n",
        "* For example imagine you have images of different car models, lets say Mercedes and Jaguar, so given an image of car you want to give it a pre-definesd label i.e is it a Mercedes or a Jaguar. Hence this is a classification task.\n",
        "\n",
        "<br>\n",
        "\n",
        "* **Regression** is a task where you are trying to predict continuous value, theoretically there is no restriction on the value of the output, unlike classification which can take only specified classes as its output.\n",
        "*For example consider the house prediction project you did previously, given features you were able to predict the price of the house, here the price could take any value. Hence this is a regression task."
      ]
    },
    {
      "cell_type": "code",
      "metadata": {
        "id": "iViAMapG7Xan"
      },
      "source": [
        "#import all the necessary modules\n",
        "import tensorflow as tf\n",
        "import numpy as np\n",
        "import pandas as pd\n",
        "import matplotlib.pyplot as plt\n",
        "import seaborn as sns\n",
        "from sklearn.model_selection import train_test_split\n",
        "import tensorflow as tf\n",
        "from tensorflow.keras.models import Sequential, load_model\n",
        "from tensorflow.keras.layers import Dense, Dropout\n",
        "from tensorflow.keras.optimizers import RMSprop\n",
        "from tensorflow.keras.callbacks import ReduceLROnPlateau, EarlyStopping\n",
        "from tensorflow.keras.models import load_model\n"
      ],
      "execution_count": null,
      "outputs": []
    },
    {
      "cell_type": "markdown",
      "metadata": {
        "id": "NBH88pVcxFFt"
      },
      "source": [
        "##Exploratory Data Analysis"
      ]
    },
    {
      "cell_type": "code",
      "metadata": {
        "id": "j5-rymPVcZ-3"
      },
      "source": [
        "# We are reading our data\n",
        "df = pd.read_csv(\"cardio_train.csv\", delimiter=';')\n",
        "df.drop(columns='id',inplace=True)  #since it does not carry any information"
      ],
      "execution_count": null,
      "outputs": []
    },
    {
      "cell_type": "code",
      "metadata": {
        "colab": {
          "base_uri": "https://localhost:8080/",
          "height": 205
        },
        "id": "od4S1nuGcmTu",
        "outputId": "87084383-25d9-41d3-b290-184c0e92dc6d"
      },
      "source": [
        "# First 5 rows of our data\n",
        "df.head()"
      ],
      "execution_count": null,
      "outputs": [
        {
          "output_type": "execute_result",
          "data": {
            "text/html": [
              "<div>\n",
              "<style scoped>\n",
              "    .dataframe tbody tr th:only-of-type {\n",
              "        vertical-align: middle;\n",
              "    }\n",
              "\n",
              "    .dataframe tbody tr th {\n",
              "        vertical-align: top;\n",
              "    }\n",
              "\n",
              "    .dataframe thead th {\n",
              "        text-align: right;\n",
              "    }\n",
              "</style>\n",
              "<table border=\"1\" class=\"dataframe\">\n",
              "  <thead>\n",
              "    <tr style=\"text-align: right;\">\n",
              "      <th></th>\n",
              "      <th>age</th>\n",
              "      <th>gender</th>\n",
              "      <th>height</th>\n",
              "      <th>weight</th>\n",
              "      <th>ap_hi</th>\n",
              "      <th>ap_lo</th>\n",
              "      <th>cholesterol</th>\n",
              "      <th>gluc</th>\n",
              "      <th>smoke</th>\n",
              "      <th>alco</th>\n",
              "      <th>active</th>\n",
              "      <th>cardio</th>\n",
              "    </tr>\n",
              "  </thead>\n",
              "  <tbody>\n",
              "    <tr>\n",
              "      <th>0</th>\n",
              "      <td>18393</td>\n",
              "      <td>2</td>\n",
              "      <td>168</td>\n",
              "      <td>62.0</td>\n",
              "      <td>110</td>\n",
              "      <td>80</td>\n",
              "      <td>1</td>\n",
              "      <td>1</td>\n",
              "      <td>0</td>\n",
              "      <td>0</td>\n",
              "      <td>1</td>\n",
              "      <td>0</td>\n",
              "    </tr>\n",
              "    <tr>\n",
              "      <th>1</th>\n",
              "      <td>20228</td>\n",
              "      <td>1</td>\n",
              "      <td>156</td>\n",
              "      <td>85.0</td>\n",
              "      <td>140</td>\n",
              "      <td>90</td>\n",
              "      <td>3</td>\n",
              "      <td>1</td>\n",
              "      <td>0</td>\n",
              "      <td>0</td>\n",
              "      <td>1</td>\n",
              "      <td>1</td>\n",
              "    </tr>\n",
              "    <tr>\n",
              "      <th>2</th>\n",
              "      <td>18857</td>\n",
              "      <td>1</td>\n",
              "      <td>165</td>\n",
              "      <td>64.0</td>\n",
              "      <td>130</td>\n",
              "      <td>70</td>\n",
              "      <td>3</td>\n",
              "      <td>1</td>\n",
              "      <td>0</td>\n",
              "      <td>0</td>\n",
              "      <td>0</td>\n",
              "      <td>1</td>\n",
              "    </tr>\n",
              "    <tr>\n",
              "      <th>3</th>\n",
              "      <td>17623</td>\n",
              "      <td>2</td>\n",
              "      <td>169</td>\n",
              "      <td>82.0</td>\n",
              "      <td>150</td>\n",
              "      <td>100</td>\n",
              "      <td>1</td>\n",
              "      <td>1</td>\n",
              "      <td>0</td>\n",
              "      <td>0</td>\n",
              "      <td>1</td>\n",
              "      <td>1</td>\n",
              "    </tr>\n",
              "    <tr>\n",
              "      <th>4</th>\n",
              "      <td>17474</td>\n",
              "      <td>1</td>\n",
              "      <td>156</td>\n",
              "      <td>56.0</td>\n",
              "      <td>100</td>\n",
              "      <td>60</td>\n",
              "      <td>1</td>\n",
              "      <td>1</td>\n",
              "      <td>0</td>\n",
              "      <td>0</td>\n",
              "      <td>0</td>\n",
              "      <td>0</td>\n",
              "    </tr>\n",
              "  </tbody>\n",
              "</table>\n",
              "</div>"
            ],
            "text/plain": [
              "     age  gender  height  weight  ap_hi  ...  gluc  smoke  alco  active  cardio\n",
              "0  18393       2     168    62.0    110  ...     1      0     0       1       0\n",
              "1  20228       1     156    85.0    140  ...     1      0     0       1       1\n",
              "2  18857       1     165    64.0    130  ...     1      0     0       0       1\n",
              "3  17623       2     169    82.0    150  ...     1      0     0       1       1\n",
              "4  17474       1     156    56.0    100  ...     1      0     0       0       0\n",
              "\n",
              "[5 rows x 12 columns]"
            ]
          },
          "metadata": {
            "tags": []
          },
          "execution_count": 4
        }
      ]
    },
    {
      "cell_type": "markdown",
      "metadata": {
        "id": "Zy7_WbXkcsAl"
      },
      "source": [
        "###Let's look at what each column represents in the above Dataframe:<br>\n",
        "\n",
        "1. age - age in days<br>\n",
        "2. gender - Male/female (1 - women, 2 - men)<br>\n",
        "3. height - int (cm) <br>\n",
        "4. weight - float (kg) <br>\n",
        "5. ap_hi -Systolic blood pressure -  int <br>\n",
        "6. ap_lo -Diastolic blood pressure -  int <br>\n",
        "7. cholesterol - 1: normal, 2: above normal, 3: well above normal <br>\n",
        "8. gluc - Glucose -  1: normal, 2: above normal, 3: well above normal <br>\n",
        "9. smoke - Smoking<br> \n",
        "10. alco  - Alcohol intake <br>\n",
        "11. active - Physical activity<br>\n",
        "12. cardio  - Presence or absence of cardiovascular disease(Target parameter)\n",
        " "
      ]
    },
    {
      "cell_type": "code",
      "metadata": {
        "colab": {
          "base_uri": "https://localhost:8080/"
        },
        "id": "kxypbGd-c6mZ",
        "outputId": "8e37cde3-7f22-4d0b-9180-b58991304a3f"
      },
      "source": [
        "df.info()\n",
        "# We can deduce no null values are present"
      ],
      "execution_count": null,
      "outputs": [
        {
          "output_type": "stream",
          "text": [
            "<class 'pandas.core.frame.DataFrame'>\n",
            "RangeIndex: 70000 entries, 0 to 69999\n",
            "Data columns (total 12 columns):\n",
            " #   Column       Non-Null Count  Dtype  \n",
            "---  ------       --------------  -----  \n",
            " 0   age          70000 non-null  int64  \n",
            " 1   gender       70000 non-null  int64  \n",
            " 2   height       70000 non-null  int64  \n",
            " 3   weight       70000 non-null  float64\n",
            " 4   ap_hi        70000 non-null  int64  \n",
            " 5   ap_lo        70000 non-null  int64  \n",
            " 6   cholesterol  70000 non-null  int64  \n",
            " 7   gluc         70000 non-null  int64  \n",
            " 8   smoke        70000 non-null  int64  \n",
            " 9   alco         70000 non-null  int64  \n",
            " 10  active       70000 non-null  int64  \n",
            " 11  cardio       70000 non-null  int64  \n",
            "dtypes: float64(1), int64(11)\n",
            "memory usage: 6.4 MB\n"
          ],
          "name": "stdout"
        }
      ]
    },
    {
      "cell_type": "code",
      "metadata": {
        "colab": {
          "base_uri": "https://localhost:8080/",
          "height": 279
        },
        "id": "p7efVM9SdER4",
        "outputId": "fcaec7af-935e-467c-997a-1f94cff760c9"
      },
      "source": [
        "sns.countplot(x=\"cardio\", data=df, palette=\"bwr\")\n",
        "plt.show()\n",
        "#We can see that our Dataset is perfectly balanced i.e both Positive and negative case have equal data points"
      ],
      "execution_count": null,
      "outputs": [
        {
          "output_type": "display_data",
          "data": {
            "image/png": "[encoded data removed]",
            "text/plain": [
              "<Figure size 432x288 with 1 Axes>"
            ]
          },
          "metadata": {
            "tags": [],
            "needs_background": "light"
          }
        }
      ]
    },
    {
      "cell_type": "code",
      "metadata": {
        "colab": {
          "base_uri": "https://localhost:8080/",
          "height": 279
        },
        "id": "BmwgQ0t2dVRn",
        "outputId": "492e6b8d-6cbb-4230-e4b8-d0e0960cb234"
      },
      "source": [
        "sns.countplot(x='gender', data=df, palette=\"mako_r\")  #This commands plots the frequence of each category in the mentioned feature.\n",
        "plt.xlabel(\"Sex\")                                     #Gives label for x-axis \n",
        "plt.show()\n",
        "# We can see we have more woman than man datapoints"
      ],
      "execution_count": null,
      "outputs": [
        {
          "output_type": "display_data",
          "data": {
            "image/png": "[encoded data removed]",
            "text/plain": [
              "<Figure size 432x288 with 1 Axes>"
            ]
          },
          "metadata": {
            "tags": [],
            "needs_background": "light"
          }
        }
      ]
    },
    {
      "cell_type": "code",
      "metadata": {
        "colab": {
          "base_uri": "https://localhost:8080/",
          "height": 162
        },
        "id": "tyn2ujZbdlrd",
        "outputId": "29f681cd-3ed1-4564-ff58-9745c507b346"
      },
      "source": [
        "#Get mean value of each features\n",
        "df.groupby('cardio').mean()"
      ],
      "execution_count": null,
      "outputs": [
        {
          "output_type": "execute_result",
          "data": {
            "text/html": [
              "<div>\n",
              "<style scoped>\n",
              "    .dataframe tbody tr th:only-of-type {\n",
              "        vertical-align: middle;\n",
              "    }\n",
              "\n",
              "    .dataframe tbody tr th {\n",
              "        vertical-align: top;\n",
              "    }\n",
              "\n",
              "    .dataframe thead th {\n",
              "        text-align: right;\n",
              "    }\n",
              "</style>\n",
              "<table border=\"1\" class=\"dataframe\">\n",
              "  <thead>\n",
              "    <tr style=\"text-align: right;\">\n",
              "      <th></th>\n",
              "      <th>age</th>\n",
              "      <th>gender</th>\n",
              "      <th>height</th>\n",
              "      <th>weight</th>\n",
              "      <th>ap_hi</th>\n",
              "      <th>ap_lo</th>\n",
              "      <th>cholesterol</th>\n",
              "      <th>gluc</th>\n",
              "      <th>smoke</th>\n",
              "      <th>alco</th>\n",
              "      <th>active</th>\n",
              "    </tr>\n",
              "    <tr>\n",
              "      <th>cardio</th>\n",
              "      <th></th>\n",
              "      <th></th>\n",
              "      <th></th>\n",
              "      <th></th>\n",
              "      <th></th>\n",
              "      <th></th>\n",
              "      <th></th>\n",
              "      <th></th>\n",
              "      <th></th>\n",
              "      <th></th>\n",
              "      <th></th>\n",
              "    </tr>\n",
              "  </thead>\n",
              "  <tbody>\n",
              "    <tr>\n",
              "      <th>0</th>\n",
              "      <td>18881.623711</td>\n",
              "      <td>1.345707</td>\n",
              "      <td>164.448017</td>\n",
              "      <td>71.592150</td>\n",
              "      <td>120.432598</td>\n",
              "      <td>84.251763</td>\n",
              "      <td>1.216527</td>\n",
              "      <td>1.175380</td>\n",
              "      <td>0.092516</td>\n",
              "      <td>0.055424</td>\n",
              "      <td>0.817881</td>\n",
              "    </tr>\n",
              "    <tr>\n",
              "      <th>1</th>\n",
              "      <td>20056.813031</td>\n",
              "      <td>1.353441</td>\n",
              "      <td>164.270334</td>\n",
              "      <td>76.822368</td>\n",
              "      <td>137.212042</td>\n",
              "      <td>109.023929</td>\n",
              "      <td>1.517396</td>\n",
              "      <td>1.277595</td>\n",
              "      <td>0.083736</td>\n",
              "      <td>0.052117</td>\n",
              "      <td>0.789559</td>\n",
              "    </tr>\n",
              "  </tbody>\n",
              "</table>\n",
              "</div>"
            ],
            "text/plain": [
              "                 age    gender      height  ...     smoke      alco    active\n",
              "cardio                                      ...                              \n",
              "0       18881.623711  1.345707  164.448017  ...  0.092516  0.055424  0.817881\n",
              "1       20056.813031  1.353441  164.270334  ...  0.083736  0.052117  0.789559\n",
              "\n",
              "[2 rows x 11 columns]"
            ]
          },
          "metadata": {
            "tags": []
          },
          "execution_count": 8
        }
      ]
    },
    {
      "cell_type": "code",
      "metadata": {
        "colab": {
          "base_uri": "https://localhost:8080/",
          "height": 358
        },
        "id": "VvZvHntmdqDY",
        "outputId": "73902ada-3d6e-4ede-f907-d56bdd2995f3"
      },
      "source": [
        "#Plot age vs frequency to get an idea of data distribution.\n",
        "pd.crosstab(df.age,df.cardio).plot(kind=\"bar\",figsize=(20,6))\n",
        "plt.title('Heart Disease Frequency for Ages')\n",
        "plt.xlabel('Age')\n",
        "plt.ylabel('Frequency')\n",
        "plt.show()"
      ],
      "execution_count": null,
      "outputs": [
        {
          "output_type": "display_data",
          "data": {
            "image/png": "[encoded data removed]",
            "text/plain": [
              "<Figure size 1440x432 with 1 Axes>"
            ]
          },
          "metadata": {
            "tags": [],
            "needs_background": "light"
          }
        }
      ]
    },
    {
      "cell_type": "markdown",
      "metadata": {
        "id": "2pXSpQxQxRFQ"
      },
      "source": [
        "##Pre-processing for inputting it to the MLP model."
      ]
    },
    {
      "cell_type": "code",
      "metadata": {
        "id": "1nnnOYJadytq"
      },
      "source": [
        "# Extracting input and labels and convert into numpy array to support tensorflow\n",
        "y = df['cardio'].to_numpy()\n",
        "x_data = df.iloc[:,:-1].to_numpy()"
      ],
      "execution_count": null,
      "outputs": []
    },
    {
      "cell_type": "markdown",
      "metadata": {
        "id": "HU_zYkvuxh_1"
      },
      "source": [
        "##Split Dataset for training and testing purpose"
      ]
    },
    {
      "cell_type": "code",
      "metadata": {
        "id": "fE9UvWOfmu2Q"
      },
      "source": [
        "#splitting the dataset so that we could see how the model performs on real world input, also to judgw how well the model generalises\n",
        "x_train, x_test, y_train, y_test = train_test_split(x_data,y,test_size = 0.2,random_state=0)"
      ],
      "execution_count": null,
      "outputs": []
    },
    {
      "cell_type": "markdown",
      "metadata": {
        "id": "5V30oFa7jKbK"
      },
      "source": [
        "You can refer to this article [here](https://towardsdatascience.com/train-validation-and-test-sets-72cb40cba9e7) for further clarification if you are interested."
      ]
    },
    {
      "cell_type": "markdown",
      "metadata": {
        "id": "dh-YiQJaxu7i"
      },
      "source": [
        "##Build MLP model"
      ]
    },
    {
      "cell_type": "code",
      "metadata": {
        "id": "xZZ0q57Rm7Na"
      },
      "source": [
        "model = tf.keras.Sequential([\n",
        "        tf.keras.layers.Dense(32, activation='relu'),\n",
        "        tf.keras.layers.BatchNormalization(axis=-1, momentum=0.99, epsilon=0.001), \n",
        "        tf.keras.layers.Dropout(0.3),\n",
        "        tf.keras.layers.Dense(64, activation='relu',kernel_regularizer=tf.keras.regularizers.l2(0.001)),\n",
        "        tf.keras.layers.BatchNormalization(axis=-1, momentum=0.99, epsilon=0.001),\n",
        "        tf.keras.layers.Dense(256, activation='relu'),\n",
        "        tf.keras.layers.BatchNormalization(axis=-1, momentum=0.99, epsilon=0.001),\n",
        "        tf.keras.layers.Dropout(0.3),\n",
        "        tf.keras.layers.Dense(1,activation='sigmoid')\n",
        "])\n",
        "\n",
        "optimizer = RMSprop(learning_rate=0.002) #Defining our optimizer\n",
        "model.compile(loss='binary_crossentropy', optimizer='adam',metrics='accuracy') \n"
      ],
      "execution_count": null,
      "outputs": []
    },
    {
      "cell_type": "code",
      "metadata": {
        "colab": {
          "base_uri": "https://localhost:8080/"
        },
        "id": "FNjbK6eboL7b",
        "outputId": "bb0e0971-699f-4a83-9fc6-f899088e6f12"
      },
      "source": [
        "num_epochs = 10\n",
        "#This method starts the training\n",
        "history = model.fit(x_train, y_train, epochs=num_epochs, verbose=2, vali)\n",
        "\n",
        "model.summary() #you can see the model structure we have defined above, also no of parameters in it."
      ],
      "execution_count": null,
      "outputs": [
        {
          "output_type": "stream",
          "text": [
            "Epoch 1/10\n",
            "1750/1750 - 4s - loss: 0.6653 - accuracy: 0.6445\n",
            "Epoch 2/10\n",
            "1750/1750 - 3s - loss: 0.6192 - accuracy: 0.6725\n",
            "Epoch 3/10\n",
            "1750/1750 - 3s - loss: 0.6346 - accuracy: 0.6460\n",
            "Epoch 4/10\n",
            "1750/1750 - 3s - loss: 0.5918 - accuracy: 0.6979\n",
            "Epoch 5/10\n",
            "1750/1750 - 3s - loss: 0.5885 - accuracy: 0.6998\n",
            "Epoch 6/10\n",
            "1750/1750 - 3s - loss: 0.5841 - accuracy: 0.7040\n",
            "Epoch 7/10\n",
            "1750/1750 - 3s - loss: 0.5814 - accuracy: 0.7058\n",
            "Epoch 8/10\n",
            "1750/1750 - 3s - loss: 0.5789 - accuracy: 0.7094\n",
            "Epoch 9/10\n",
            "1750/1750 - 3s - loss: 0.5783 - accuracy: 0.7089\n",
            "Epoch 10/10\n",
            "1750/1750 - 3s - loss: 0.5774 - accuracy: 0.7089\n",
            "Model: \"sequential_2\"\n",
            "_________________________________________________________________\n",
            "Layer (type)                 Output Shape              Param #   \n",
            "=================================================================\n",
            "dense_8 (Dense)              (32, 32)                  384       \n",
            "_________________________________________________________________\n",
            "batch_normalization_6 (Batch (32, 32)                  128       \n",
            "_________________________________________________________________\n",
            "dropout_4 (Dropout)          (32, 32)                  0         \n",
            "_________________________________________________________________\n",
            "dense_9 (Dense)              (32, 64)                  2112      \n",
            "_________________________________________________________________\n",
            "batch_normalization_7 (Batch (32, 64)                  256       \n",
            "_________________________________________________________________\n",
            "dense_10 (Dense)             (32, 256)                 16640     \n",
            "_________________________________________________________________\n",
            "batch_normalization_8 (Batch (32, 256)                 1024      \n",
            "_________________________________________________________________\n",
            "dropout_5 (Dropout)          (32, 256)                 0         \n",
            "_________________________________________________________________\n",
            "dense_11 (Dense)             (32, 1)                   257       \n",
            "=================================================================\n",
            "Total params: 20,801\n",
            "Trainable params: 20,097\n",
            "Non-trainable params: 704\n",
            "_________________________________________________________________\n"
          ],
          "name": "stdout"
        }
      ]
    },
    {
      "cell_type": "markdown",
      "metadata": {
        "id": "sLKv19JgxzjN"
      },
      "source": [
        "##Evaluating the model"
      ]
    },
    {
      "cell_type": "code",
      "metadata": {
        "colab": {
          "base_uri": "https://localhost:8080/",
          "height": 295
        },
        "id": "FQOmwIZehbE0",
        "outputId": "35fa83f7-4f8c-49cf-eb3d-5f04cb51fe94"
      },
      "source": [
        "import matplotlib.pyplot as plt\n",
        "plt.plot(history.history['loss'])\n",
        "plt.title('Model loss')\n",
        "plt.ylabel('Loss')\n",
        "plt.xlabel('Epoch')\n",
        "plt.show()\n",
        "#We can see that loss gradually keeps on decreasing as required to"
      ],
      "execution_count": null,
      "outputs": [
        {
          "output_type": "display_data",
          "data": {
            "image/png": "[encoded data removed]",
            "text/plain": [
              "<Figure size 432x288 with 1 Axes>"
            ]
          },
          "metadata": {
            "tags": [],
            "needs_background": "light"
          }
        }
      ]
    },
    {
      "cell_type": "code",
      "metadata": {
        "colab": {
          "base_uri": "https://localhost:8080/",
          "height": 295
        },
        "id": "vC6N4pcAhb1v",
        "outputId": "aea89557-19c7-4630-bcf4-7fd819cd1f56"
      },
      "source": [
        "plt.plot(history.history['accuracy'])\n",
        "plt.title('Model accuracy')\n",
        "plt.ylabel('Accuracy')\n",
        "plt.xlabel('Epoch')\n",
        "plt.show()\n",
        "# we can see that model accuracy increases with each epoch and almost saturates"
      ],
      "execution_count": null,
      "outputs": [
        {
          "output_type": "display_data",
          "data": {
            "image/png": "[encoded data removed]",
            "text/plain": [
              "<Figure size 432x288 with 1 Axes>"
            ]
          },
          "metadata": {
            "tags": [],
            "needs_background": "light"
          }
        }
      ]
    },
    {
      "cell_type": "code",
      "metadata": {
        "colab": {
          "base_uri": "https://localhost:8080/"
        },
        "id": "v0lEcllYowhL",
        "outputId": "a99f8def-4485-41b5-8956-f0dc7e6efea2"
      },
      "source": [
        "model.evaluate(x_test,y_test)\n",
        "#we get an accuracy of 71% for test dataset"
      ],
      "execution_count": null,
      "outputs": [
        {
          "output_type": "stream",
          "text": [
            "438/438 [==============================] - 1s 2ms/step - loss: 0.5783 - accuracy: 0.7184\n"
          ],
          "name": "stdout"
        },
        {
          "output_type": "execute_result",
          "data": {
            "text/plain": [
              "[0.5783283710479736, 0.7184285521507263]"
            ]
          },
          "metadata": {
            "tags": []
          },
          "execution_count": 146
        }
      ]
    }
  ]
}