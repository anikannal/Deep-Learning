{
  "nbformat": 4,
  "nbformat_minor": 0,
  "metadata": {
    "colab": {
      "name": "Day15_ObjectRecognitionUsingCNN.ipynb",
      "provenance": [],
      "collapsed_sections": [
        "qNJON-gG8L6R"
      ]
    },
    "kernelspec": {
      "display_name": "Python 3",
      "name": "python3"
    }
  },
  "cells": [
    {
      "cell_type": "markdown",
      "metadata": {
        "id": "owaGqq4SnBKK"
      },
      "source": [
        "#Object Recognition using CNN\n"
      ]
    },
    {
      "cell_type": "markdown",
      "metadata": {
        "id": "YZkr0SsVUfoF"
      },
      "source": [
        "In the previous notebook, we have seen how to classify objects/images that are in grayscale format. In this notebook, we will build a CNN model to classify images that are coloured i.e., having RGB layers in it. "
      ]
    },
    {
      "cell_type": "markdown",
      "metadata": {
        "id": "YiVcwrS2YSYX"
      },
      "source": [
        "\n",
        "In this notebook, we'll see new concepts like:\n",
        "\n",
        "* Training model for coloured images\n",
        "* Using regularization in the model\n",
        "* Using Batch Normalization\n",
        "* Saving and reusing trained model\n",
        "* Model summary\n",
        "* Training History\n",
        "\n"
      ]
    },
    {
      "cell_type": "markdown",
      "metadata": {
        "id": "aRbfcVO_lB2h"
      },
      "source": [
        "We will use **CIFAR10 dataset**, it is a large dataset of a total *60000* images, with *50000* training images and their labels, and *10000* testing images and their labels. There are 10 classes- **'Airplane', 'Automobile', 'Bird', 'Cat', 'Deer', 'Dog', 'Frog', 'Horse', 'Ship' and 'Truck'** with *6000 images* in each class.\n",
        "\n",
        "**Each image is of 32x32 pixels.** This dataset is present in Tensorflow."
      ]
    },
    {
      "cell_type": "markdown",
      "metadata": {
        "id": "94d9JGN8PpXG"
      },
      "source": [
        "####Steps"
      ]
    },
    {
      "cell_type": "markdown",
      "metadata": {
        "id": "s0UhuSUeiiOm"
      },
      "source": [
        "The steps will be similar to the CNN model built for Digit Recognition but in this, we will include some concepts such as regularization, batch normalization, *etc.,* at appropriate steps.\n"
      ]
    },
    {
      "cell_type": "markdown",
      "metadata": {
        "id": "IP8ms6RLk0-d"
      },
      "source": [
        "1. *Import all the necessary libraries*\n",
        "2. *Load the dataset*\n",
        "3. *Explorartory Data Analysis*\n",
        "4. *Preprocessing of Data*\n",
        "5. *Building the Model Pipeline*\n",
        "6. *Train the model*\n",
        "7. *Evaluate and Predict.*"
      ]
    },
    {
      "cell_type": "markdown",
      "metadata": {
        "id": "hZogwvZZA95v"
      },
      "source": [
        "## **1. Importing Libraries**"
      ]
    },
    {
      "cell_type": "markdown",
      "metadata": {
        "id": "-elgoedQBEBH"
      },
      "source": [
        "We will be using the following libraries to build the CNN model for object recognition.\n",
        "1. Tensorflow - Tensorflow is a very powerful library developed by Google. It is open-sourced and is widely used for handling multi-dimensional data. It is preferred by programmers for building Deep Learning models.\n",
        "2. Keras - Keras is a powerful library used for Artificial Neural Networks (ANNs). It provides a wide variety of functions for building complex ANN models. \n",
        "3. Matplotlib - This library is used to plot graphs in python, and since images also are 2 dimensional in nature, they can also be displayed."
      ]
    },
    {
      "cell_type": "markdown",
      "metadata": {
        "id": "qNJON-gG8L6R"
      },
      "source": [
        "#### **Sequential Model**\n",
        "\n",
        "Keras comes built in with 3 methods for building the Neural networks- Sequential, Functional and Model-Subclassing. \n",
        "\n",
        "We'll be using Sequential API, we need not focus on the other two as for the scope of this notebook. *Sequential model groups a linear stack of layers into a tf.keras.Model object.*"
      ]
    },
    {
      "cell_type": "markdown",
      "metadata": {
        "id": "-r0IZl0s9l5O"
      },
      "source": [
        "#### **Keras Layers**\n",
        "\n",
        "We'll be using various layers provided by keras in our project. They are:\n",
        "\n",
        "*Dense*: Dense layers are the regular hidden layers used in artificial Neural Networks with n nodes.\n",
        "\n",
        "*Conv2D, MaxPoolind2D*: These are the Convolutional layers as discussed in the previous notebooks.\n",
        "\n",
        "\n",
        "Dropout: In this project we'll be using the regularization for Neural Networks, *i.e.,* **Dropout Regularization.**\n",
        "\n",
        "Flatten:  Flatten will convert 2D data into 1D so that it can be fed into the fully connected layers.\n",
        "\n",
        "We'll also use *Batch Normalization*. It'll be discussed in the upcoming sections.\n",
        "\n"
      ]
    },
    {
      "cell_type": "markdown",
      "metadata": {
        "id": "T7XDug4AU4on"
      },
      "source": [
        "###Let's Import all the necessary libraries. "
      ]
    },
    {
      "cell_type": "code",
      "metadata": {
        "id": "aXzKcV3DmOuN"
      },
      "source": [
        "import tensorflow as tf\n",
        "\n",
        "# Importing the Keras modules containing model and layers\n",
        "from keras import layers, models, optimizers\n",
        "from tensorflow.keras.models import Sequential\n",
        "from tensorflow.keras.layers import Dense, Conv2D, Dropout, Flatten, MaxPooling2D, BatchNormalization\n",
        "\n",
        "import matplotlib.pyplot as plt\n",
        "#%matplotlib inline # Un-comment this if using in iPython, i.e jupyter etc.\n",
        "import random"
      ],
      "execution_count": null,
      "outputs": []
    },
    {
      "cell_type": "markdown",
      "metadata": {
        "id": "wSdtvm13GdXy"
      },
      "source": [
        "## **2. Loading the Dataset**\n",
        "\n",
        "\n",
        "\n"
      ]
    },
    {
      "cell_type": "markdown",
      "metadata": {
        "id": "RMF57-oqHnd9"
      },
      "source": [
        "Let's load the CIFAR10 Dataset. Even this dataset is present in **tf.keras.datasets** module."
      ]
    },
    {
      "cell_type": "code",
      "metadata": {
        "id": "1zQ-jQpUDCU4",
        "colab": {
          "base_uri": "https://localhost:8080/"
        },
        "outputId": "f695be63-3734-4c78-c4a5-528d1a8df981"
      },
      "source": [
        "(x_train, y_train), (x_test, y_test) = tf.keras.datasets.cifar10.load_data()"
      ],
      "execution_count": null,
      "outputs": [
        {
          "output_type": "stream",
          "text": [
            "Downloading data from https://www.cs.toronto.edu/~kriz/cifar-10-python.tar.gz\n",
            "170500096/170498071 [==============================] - 4s 0us/step\n"
          ],
          "name": "stdout"
        }
      ]
    },
    {
      "cell_type": "markdown",
      "metadata": {
        "id": "-VZ7zIlUHq7A"
      },
      "source": [
        "The load_data() method returns 2 *tuples*, one for training and one for testing. Each of these tuples have 2 numpy.ndarray arrays of X-data and y- labels."
      ]
    },
    {
      "cell_type": "markdown",
      "metadata": {
        "id": "mgLOVcYT2BOb"
      },
      "source": [
        "## **3. Exploratory Data Analysis**"
      ]
    },
    {
      "cell_type": "markdown",
      "metadata": {
        "id": "z6u6ecOQtknX"
      },
      "source": [
        "Exploratory Data Analysis Step includes Exploring the data before training it to find good possible features that can be used for training. Data Visualisation is one such major step."
      ]
    },
    {
      "cell_type": "markdown",
      "metadata": {
        "id": "UYTQcN4xytt7"
      },
      "source": [
        "The dataset has 10 classes as shown below. y_train and y_test have numbers which are the indexes for this list \"class_names\"."
      ]
    },
    {
      "cell_type": "code",
      "metadata": {
        "id": "HuuFpG4nPZlC"
      },
      "source": [
        "class_names = ['Airplane', 'Automobile', 'Bird', 'Cat', 'Deer',\n",
        "               'Dog', 'Frog', 'Horse', 'Ship', 'Truck']"
      ],
      "execution_count": null,
      "outputs": []
    },
    {
      "cell_type": "markdown",
      "metadata": {
        "id": "Jcc72TF4v6s0"
      },
      "source": [
        "Let us take a look at the images in the dataset."
      ]
    },
    {
      "cell_type": "code",
      "metadata": {
        "colab": {
          "base_uri": "https://localhost:8080/",
          "height": 425
        },
        "id": "xLu7KntWcWfb",
        "outputId": "ebddef2f-54fa-444b-f0e5-761c1402641c"
      },
      "source": [
        "# Few of the images are as shown\n",
        "\n",
        "plt.figure(figsize=(7,7))\n",
        "for i in range(1,10):\n",
        "  ind = random.randint(0,50000)\n",
        "  plt.subplot(3,3,i)\n",
        "  plt.xticks([])\n",
        "  plt.yticks([])\n",
        "  plt.imshow(x_train[ind],cmap=\"Greys\")\n",
        "  plt.xlabel(class_names[y_train[ind][0]])"
      ],
      "execution_count": null,
      "outputs": [
        {
          "output_type": "display_data",
          "data": {
            "image/png": "[encoded data removed]",
            "text/plain": [
              "<Figure size 504x504 with 9 Axes>"
            ]
          },
          "metadata": {
            "tags": []
          }
        }
      ]
    },
    {
      "cell_type": "markdown",
      "metadata": {
        "id": "rgLQqmDuZ_u0"
      },
      "source": [
        "### Dimensions of the data"
      ]
    },
    {
      "cell_type": "markdown",
      "metadata": {
        "id": "PWa4nTuzwa4S"
      },
      "source": [
        "Let us see the shape of these tensors"
      ]
    },
    {
      "cell_type": "code",
      "metadata": {
        "colab": {
          "base_uri": "https://localhost:8080/"
        },
        "id": "VwvuVZ8jweVz",
        "outputId": "0e8e408c-eccd-4c20-b612-3a9bb397c48b"
      },
      "source": [
        "print(\"x_train shape: \",x_train.shape)\n",
        "print(\"y_train shape: \",y_train.shape)\n",
        "print(\"x_test shape: \",x_test.shape)\n",
        "print(\"y_test shape: \",y_test.shape)"
      ],
      "execution_count": null,
      "outputs": [
        {
          "output_type": "stream",
          "text": [
            "x_train shape:  (50000, 32, 32, 3)\n",
            "y_train shape:  (50000, 1)\n",
            "x_test shape:  (10000, 32, 32, 3)\n",
            "y_test shape:  (10000, 1)\n"
          ],
          "name": "stdout"
        }
      ]
    },
    {
      "cell_type": "markdown",
      "metadata": {
        "id": "iJPa6ICjw72M"
      },
      "source": [
        ">We see from the above code snippet, the image is already in 4 Dimensions- 50000 training and 10000 test images, with 32x32 pixels, the 4th being the 3 channels for RGB layers. \n",
        "\n",
        ">The labels are of 2 dimensions because each element is an array. We'll see that below.\n",
        "\n"
      ]
    },
    {
      "cell_type": "markdown",
      "metadata": {
        "id": "ST1gY4kM3Vq1"
      },
      "source": [
        "### Displaying Raw data.\n",
        "\n",
        "Let's see the contents of these numpy arrays.\n",
        "\n",
        "The X-Train looks like..."
      ]
    },
    {
      "cell_type": "code",
      "metadata": {
        "id": "GEbHxdfCjJl9",
        "colab": {
          "base_uri": "https://localhost:8080/"
        },
        "outputId": "caf69ccd-8dc3-4881-a8b4-65a5c96a444d"
      },
      "source": [
        "x_train[0]"
      ],
      "execution_count": null,
      "outputs": [
        {
          "output_type": "execute_result",
          "data": {
            "text/plain": [
              "array([[[ 59,  62,  63],\n",
              "        [ 43,  46,  45],\n",
              "        [ 50,  48,  43],\n",
              "        ...,\n",
              "        [158, 132, 108],\n",
              "        [152, 125, 102],\n",
              "        [148, 124, 103]],\n",
              "\n",
              "       [[ 16,  20,  20],\n",
              "        [  0,   0,   0],\n",
              "        [ 18,   8,   0],\n",
              "        ...,\n",
              "        [123,  88,  55],\n",
              "        [119,  83,  50],\n",
              "        [122,  87,  57]],\n",
              "\n",
              "       [[ 25,  24,  21],\n",
              "        [ 16,   7,   0],\n",
              "        [ 49,  27,   8],\n",
              "        ...,\n",
              "        [118,  84,  50],\n",
              "        [120,  84,  50],\n",
              "        [109,  73,  42]],\n",
              "\n",
              "       ...,\n",
              "\n",
              "       [[208, 170,  96],\n",
              "        [201, 153,  34],\n",
              "        [198, 161,  26],\n",
              "        ...,\n",
              "        [160, 133,  70],\n",
              "        [ 56,  31,   7],\n",
              "        [ 53,  34,  20]],\n",
              "\n",
              "       [[180, 139,  96],\n",
              "        [173, 123,  42],\n",
              "        [186, 144,  30],\n",
              "        ...,\n",
              "        [184, 148,  94],\n",
              "        [ 97,  62,  34],\n",
              "        [ 83,  53,  34]],\n",
              "\n",
              "       [[177, 144, 116],\n",
              "        [168, 129,  94],\n",
              "        [179, 142,  87],\n",
              "        ...,\n",
              "        [216, 184, 140],\n",
              "        [151, 118,  84],\n",
              "        [123,  92,  72]]], dtype=uint8)"
            ]
          },
          "metadata": {
            "tags": []
          },
          "execution_count": 7
        }
      ]
    },
    {
      "cell_type": "markdown",
      "metadata": {
        "id": "6Sl_YGASyBxC"
      },
      "source": [
        "We observe that the innermost array has 3 values, each value corresponding to each RGB layer."
      ]
    },
    {
      "cell_type": "markdown",
      "metadata": {
        "id": "pDjIPHYX4YMK"
      },
      "source": [
        "Now Y-Train"
      ]
    },
    {
      "cell_type": "code",
      "metadata": {
        "id": "sgkDWqyx5acy",
        "colab": {
          "base_uri": "https://localhost:8080/"
        },
        "outputId": "0042604e-7c93-4fdb-a994-07a3c0bb15c0"
      },
      "source": [
        "y_train[0]"
      ],
      "execution_count": null,
      "outputs": [
        {
          "output_type": "execute_result",
          "data": {
            "text/plain": [
              "array([6], dtype=uint8)"
            ]
          },
          "metadata": {
            "tags": []
          },
          "execution_count": 8
        }
      ]
    },
    {
      "cell_type": "markdown",
      "metadata": {
        "id": "uknNER8NyORB"
      },
      "source": [
        "We observe that the first image has this label which is an array, and the number in that array corresponds to the class of the object in the image."
      ]
    },
    {
      "cell_type": "markdown",
      "metadata": {
        "id": "97Mj18dkpdNo"
      },
      "source": [
        "### Displaying the Actual Image"
      ]
    },
    {
      "cell_type": "markdown",
      "metadata": {
        "id": "LecCc2YBpmrw"
      },
      "source": [
        "We'll now try to display the actual image using the matplotlib.pyplot library."
      ]
    },
    {
      "cell_type": "code",
      "metadata": {
        "id": "BXHLqnKeWdN3",
        "colab": {
          "base_uri": "https://localhost:8080/",
          "height": 334
        },
        "outputId": "e70bdd66-ebaf-4d3b-c5af-1f0717f45530"
      },
      "source": [
        "# Select any image index up to 50,000\n",
        "image_index = random.randint(0,50000) # Or manually enter a number\n",
        "\n",
        "print(\"Index is\",image_index,\"and The Image label is: \", class_names[y_train[image_index][0]],\"\\n\\n\") \n",
        "plt.imshow(x_train[image_index], cmap='Greys')\n"
      ],
      "execution_count": null,
      "outputs": [
        {
          "output_type": "stream",
          "text": [
            "Index is 22822 and The Image label is:  Automobile \n",
            "\n",
            "\n"
          ],
          "name": "stdout"
        },
        {
          "output_type": "execute_result",
          "data": {
            "text/plain": [
              "<matplotlib.image.AxesImage at 0x7efbf2a6d590>"
            ]
          },
          "metadata": {
            "tags": []
          },
          "execution_count": 9
        },
        {
          "output_type": "display_data",
          "data": {
            "image/png": "[encoded data removed]",
            "text/plain": [
              "<Figure size 432x288 with 1 Axes>"
            ]
          },
          "metadata": {
            "tags": [],
            "needs_background": "light"
          }
        }
      ]
    },
    {
      "cell_type": "markdown",
      "metadata": {
        "id": "BktdfQ2jq9w2"
      },
      "source": [
        "Randint generates a random integer between the two arguments provided to it.\n",
        "\n",
        "The imshow method will display the image in a graph by taking the input tensors provided to it"
      ]
    },
    {
      "cell_type": "markdown",
      "metadata": {
        "id": "2s6AnHYbzhDt"
      },
      "source": [
        "We see that the images aren't clear to the human eyes, since it's resolution is only 32x32 pixels."
      ]
    },
    {
      "cell_type": "markdown",
      "metadata": {
        "id": "CsfQbdGHxRdR"
      },
      "source": [
        "## **4. Pre-Processing the Data**\n",
        "\n"
      ]
    },
    {
      "cell_type": "markdown",
      "metadata": {
        "id": "dYD_iVYFSHlV"
      },
      "source": [
        "Preprocessing is an important step in the *data mining process*. The Pre-Processing Step ensures that proper data with correct format is fed into the Model. This is due to the fact that some models will only work in a given dimension format. "
      ]
    },
    {
      "cell_type": "markdown",
      "metadata": {
        "id": "GiMllWGQT-LM"
      },
      "source": [
        "Keras API takes only 4-D inputs, the 4th dimension being the number of channels in the data. In our data, we already have 4 dimensions, so we need not do any conversions."
      ]
    },
    {
      "cell_type": "markdown",
      "metadata": {
        "id": "bhOL_sMGKc5O"
      },
      "source": [
        "Let us observe a random pixel row in the image- say 16th, for each pre processing step to undertand how the data is being modified."
      ]
    },
    {
      "cell_type": "code",
      "metadata": {
        "id": "GHlxduM-PZf5",
        "colab": {
          "base_uri": "https://localhost:8080/"
        },
        "outputId": "d90b5b5b-16e6-4b82-9b7d-bc2d577df791"
      },
      "source": [
        "x_train[0][16]"
      ],
      "execution_count": null,
      "outputs": [
        {
          "output_type": "execute_result",
          "data": {
            "text/plain": [
              "array([[149, 115,  79],\n",
              "       [143,  95,  49],\n",
              "       [144,  97,  51],\n",
              "       [151,  99,  51],\n",
              "       [132,  87,  49],\n",
              "       [ 64,  40,  21],\n",
              "       [ 84,  59,  41],\n",
              "       [112,  69,  37],\n",
              "       [163, 121,  75],\n",
              "       [223, 204, 166],\n",
              "       [206, 182, 157],\n",
              "       [145,  90,  56],\n",
              "       [196, 133,  84],\n",
              "       [204, 157, 110],\n",
              "       [220, 188, 156],\n",
              "       [243, 226, 208],\n",
              "       [245, 237, 226],\n",
              "       [239, 233, 215],\n",
              "       [234, 224, 201],\n",
              "       [231, 217, 192],\n",
              "       [195, 181, 152],\n",
              "       [150, 137, 100],\n",
              "       [208, 193, 154],\n",
              "       [250, 241, 216],\n",
              "       [227, 216, 173],\n",
              "       [163, 142,  78],\n",
              "       [145, 127,  60],\n",
              "       [143, 129,  62],\n",
              "       [140, 123,  55],\n",
              "       [136, 116,  46],\n",
              "       [121,  95,  30],\n",
              "       [114,  82,  40]], dtype=uint8)"
            ]
          },
          "metadata": {
            "tags": []
          },
          "execution_count": 10
        }
      ]
    },
    {
      "cell_type": "markdown",
      "metadata": {
        "id": "2_tsCFtkPyRA"
      },
      "source": [
        "Now, some of the functionalities like activation functions work only with numbers ranging from 0 to 1,thus we need to convert the pixel values in this range.\n",
        ">The pixel values range from 0 to 255\n",
        "\n",
        ">To convert to 0 to 1, \n",
        "\n",
        ">we need to divide the numbers by 255"
      ]
    },
    {
      "cell_type": "markdown",
      "metadata": {
        "id": "JZiOQ57vTVSM"
      },
      "source": [
        "To ensure that the pixels will be in decimals after dividing them, we'll convert them to float type before division"
      ]
    },
    {
      "cell_type": "code",
      "metadata": {
        "id": "DD-Q5FZT6hAp"
      },
      "source": [
        "# Making sure that the values are float so that we can get decimal points after division\n",
        "x_train = x_train.astype('float32')\n",
        "x_test = x_test.astype('float32')\n"
      ],
      "execution_count": null,
      "outputs": []
    },
    {
      "cell_type": "code",
      "metadata": {
        "id": "f-yyvF9WParB",
        "colab": {
          "base_uri": "https://localhost:8080/"
        },
        "outputId": "46e93692-9a52-4d36-e59b-3a8771023dc0"
      },
      "source": [
        "x_train[0][16]"
      ],
      "execution_count": null,
      "outputs": [
        {
          "output_type": "execute_result",
          "data": {
            "text/plain": [
              "array([[149., 115.,  79.],\n",
              "       [143.,  95.,  49.],\n",
              "       [144.,  97.,  51.],\n",
              "       [151.,  99.,  51.],\n",
              "       [132.,  87.,  49.],\n",
              "       [ 64.,  40.,  21.],\n",
              "       [ 84.,  59.,  41.],\n",
              "       [112.,  69.,  37.],\n",
              "       [163., 121.,  75.],\n",
              "       [223., 204., 166.],\n",
              "       [206., 182., 157.],\n",
              "       [145.,  90.,  56.],\n",
              "       [196., 133.,  84.],\n",
              "       [204., 157., 110.],\n",
              "       [220., 188., 156.],\n",
              "       [243., 226., 208.],\n",
              "       [245., 237., 226.],\n",
              "       [239., 233., 215.],\n",
              "       [234., 224., 201.],\n",
              "       [231., 217., 192.],\n",
              "       [195., 181., 152.],\n",
              "       [150., 137., 100.],\n",
              "       [208., 193., 154.],\n",
              "       [250., 241., 216.],\n",
              "       [227., 216., 173.],\n",
              "       [163., 142.,  78.],\n",
              "       [145., 127.,  60.],\n",
              "       [143., 129.,  62.],\n",
              "       [140., 123.,  55.],\n",
              "       [136., 116.,  46.],\n",
              "       [121.,  95.,  30.],\n",
              "       [114.,  82.,  40.]], dtype=float32)"
            ]
          },
          "metadata": {
            "tags": []
          },
          "execution_count": 12
        }
      ]
    },
    {
      "cell_type": "code",
      "metadata": {
        "id": "NBTbfbjo6mEi"
      },
      "source": [
        "# Normalizing by dividing with 255\n",
        "x_train /= 255\n",
        "x_test /= 255"
      ],
      "execution_count": null,
      "outputs": []
    },
    {
      "cell_type": "code",
      "metadata": {
        "colab": {
          "base_uri": "https://localhost:8080/"
        },
        "id": "GXBQNOUTPbiQ",
        "outputId": "b858f65f-5821-4439-d5db-74e40028149f"
      },
      "source": [
        "x_train[0][16]\n"
      ],
      "execution_count": null,
      "outputs": [
        {
          "output_type": "execute_result",
          "data": {
            "text/plain": [
              "array([[0.58431375, 0.4509804 , 0.30980393],\n",
              "       [0.56078434, 0.37254903, 0.19215687],\n",
              "       [0.5647059 , 0.38039216, 0.2       ],\n",
              "       [0.5921569 , 0.3882353 , 0.2       ],\n",
              "       [0.5176471 , 0.34117648, 0.19215687],\n",
              "       [0.2509804 , 0.15686275, 0.08235294],\n",
              "       [0.32941177, 0.23137255, 0.16078432],\n",
              "       [0.4392157 , 0.27058825, 0.14509805],\n",
              "       [0.6392157 , 0.4745098 , 0.29411766],\n",
              "       [0.8745098 , 0.8       , 0.6509804 ],\n",
              "       [0.80784315, 0.7137255 , 0.6156863 ],\n",
              "       [0.5686275 , 0.3529412 , 0.21960784],\n",
              "       [0.76862746, 0.52156866, 0.32941177],\n",
              "       [0.8       , 0.6156863 , 0.43137255],\n",
              "       [0.8627451 , 0.7372549 , 0.6117647 ],\n",
              "       [0.9529412 , 0.8862745 , 0.8156863 ],\n",
              "       [0.9607843 , 0.92941177, 0.8862745 ],\n",
              "       [0.9372549 , 0.9137255 , 0.84313726],\n",
              "       [0.91764706, 0.8784314 , 0.7882353 ],\n",
              "       [0.90588236, 0.8509804 , 0.7529412 ],\n",
              "       [0.7647059 , 0.70980394, 0.59607846],\n",
              "       [0.5882353 , 0.5372549 , 0.39215687],\n",
              "       [0.8156863 , 0.75686276, 0.6039216 ],\n",
              "       [0.98039216, 0.94509804, 0.84705883],\n",
              "       [0.8901961 , 0.84705883, 0.6784314 ],\n",
              "       [0.6392157 , 0.5568628 , 0.30588236],\n",
              "       [0.5686275 , 0.49803922, 0.23529412],\n",
              "       [0.56078434, 0.5058824 , 0.24313726],\n",
              "       [0.54901963, 0.48235294, 0.21568628],\n",
              "       [0.53333336, 0.45490196, 0.18039216],\n",
              "       [0.4745098 , 0.37254903, 0.11764706],\n",
              "       [0.44705883, 0.32156864, 0.15686275]], dtype=float32)"
            ]
          },
          "metadata": {
            "tags": []
          },
          "execution_count": 12
        }
      ]
    },
    {
      "cell_type": "markdown",
      "metadata": {
        "id": "AxUbBnZO1TTZ"
      },
      "source": [
        "And that's it. We're done with pre-processing and now we'll proceed to further steps."
      ]
    },
    {
      "cell_type": "markdown",
      "metadata": {
        "id": "ZteLqWENmMfh"
      },
      "source": [
        "## **5. Building the Model**"
      ]
    },
    {
      "cell_type": "markdown",
      "metadata": {
        "id": "1rwvDlt8YQxN"
      },
      "source": [
        "We'll try to add complicated structures in our model since the dataset is not large enough for 10 classes and coloured images. Thus we'll add high level architectures and add proper regularization steps before training it for many epochs."
      ]
    },
    {
      "cell_type": "markdown",
      "metadata": {
        "id": "RlFUmedbdg57"
      },
      "source": [
        "We will build the network using many layers. The layers are grouped into sets. Each set possesses different tyoes of layers, in our example we take a couple of Conv2D layers, Maxpooling layers, Batch Normalization and dropout. 3 such sets are taken.\n",
        "\n",
        "Dropout and Batch Normalization are used to reduce over-fitting while training for many epochs.\n",
        "\n",
        "The dropout rate is casually increased after each set.\n",
        "\n",
        "Note that the number of filters in Conv2D layers and the number of neurons in the dense layer(Fully connected layer) are taken by trial to get a high accuracy. You can try varying the filters/neurons or even the number of sets and check the varied accuracy.\n",
        "\n",
        "\n",
        "\n"
      ]
    },
    {
      "cell_type": "markdown",
      "metadata": {
        "id": "cBHCntFuKHPS"
      },
      "source": [
        "##### **Dropout Layer**\n",
        "\n",
        "Dropout refers to dropping(not considering in both forward and backward pass) some neurons in the network during the training phase. The neurons which are dropped are chosen at random, and the number of such neurons to be dropped is defined by the droput rate which ranges from 0 to 1, 0 meaning no nodes are dropped and 0.5 meaning 50%  of the nodes being dropped and so on.*\n"
      ]
    },
    {
      "cell_type": "markdown",
      "metadata": {
        "id": "FCmv3hAMJkXW"
      },
      "source": [
        "![4-1.png](data:image/png;base64,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)"
      ]
    },
    {
      "cell_type": "markdown",
      "metadata": {
        "id": "-y_o5-iO8PCQ"
      },
      "source": [
        "As shown in the image, few neurons are ignored in the training process to reduce *overfitting*."
      ]
    },
    {
      "cell_type": "markdown",
      "metadata": {
        "id": "gk6JmuxZ0Sbx"
      },
      "source": [
        "##### **Batch Normalization:** \n",
        "Batch normalization is a technique for training very deep neural networks that standardizes the inputs to a layer for each mini-batch. This has the effect of stabilizing the learning process and dramatically reducing the number of training epochs required to train deep networks. [Batch Normalization](https://machinelearningmastery.com/batch-normalization-for-training-of-deep-neural-networks/)"
      ]
    },
    {
      "cell_type": "markdown",
      "metadata": {
        "id": "enOnhvpSchAi"
      },
      "source": [
        "#### Model"
      ]
    },
    {
      "cell_type": "code",
      "metadata": {
        "id": "CajqZgFPxlPs"
      },
      "source": [
        "model = Sequential()\n",
        "\n",
        "# Set 1\n",
        "model.add(Conv2D(32, (3, 3), activation='relu', kernel_initializer='he_uniform', padding='same', input_shape=(32, 32, 3)))\n",
        "# We'll apply Batch Normalization after each Convolution Layer\n",
        "model.add(BatchNormalization())\n",
        "model.add(Conv2D(32, (3, 3), activation='relu', kernel_initializer='he_uniform', padding='same'))\n",
        "model.add(BatchNormalization())\n",
        "model.add(MaxPooling2D((2, 2)))\n",
        "#Lets add the Droput Regularization at the end of a set with at an increasing rate.\n",
        "model.add(Dropout(0.2))\n",
        "\n",
        "# Set 2\n",
        "model.add(Conv2D(64, (3, 3), activation='relu', kernel_initializer='he_uniform', padding='same'))\n",
        "model.add(BatchNormalization())\n",
        "model.add(Conv2D(64, (3, 3), activation='relu', kernel_initializer='he_uniform', padding='same'))\n",
        "model.add(BatchNormalization())\n",
        "model.add(MaxPooling2D((2, 2)))\n",
        "model.add(Dropout(0.3))\n",
        "\n",
        "# Set3\n",
        "model.add(Conv2D(128, (3, 3), activation='relu', kernel_initializer='he_uniform', padding='same'))\n",
        "model.add(BatchNormalization())\n",
        "model.add(Conv2D(128, (3, 3), activation='relu', kernel_initializer='he_uniform', padding='same'))\n",
        "model.add(BatchNormalization())\n",
        "model.add(MaxPooling2D((2, 2)))\n",
        "model.add(Dropout(0.4))\n",
        "#Flattening the output of previous layers\n",
        "model.add(Flatten())\n",
        "\n",
        "#adding the Fully Connected Layer with 128 neurons\n",
        "model.add(Dense(128, activation='relu', kernel_initializer='he_uniform'))\n",
        "model.add(BatchNormalization())\n",
        "model.add(Dropout(0.5))\n",
        "\n",
        "# Adding the output layer with 10 classes\n",
        "model.add(Dense(10, activation='softmax'))"
      ],
      "execution_count": null,
      "outputs": []
    },
    {
      "cell_type": "markdown",
      "metadata": {
        "id": "YhoxN1w6fkV3"
      },
      "source": [
        "Always remember to add the input_shape parameter in the first layer of the network- which is the shape of each sample(image).\n",
        "\n"
      ]
    },
    {
      "cell_type": "markdown",
      "metadata": {
        "id": "sdaWfhBofZsf"
      },
      "source": [
        "In Conv2D layer, we took a kernel size of 3x3 matrix. We have used padding of zeroes to ensure outputs have same dimensions. We have used ReLU activation and 'he_uniform' initializer for giving the initial values in the kernel before training.  \n",
        "\n",
        "Batch normalization is added after Conv2D layers and Dense layers makes the network more stable during training.\n",
        "\n",
        "The pool size of Maxpooling layers is taken as 2x2.\n",
        "\n",
        "It is then flattened into 1D by using a Flatten() after Maxpooling in the last set.\n",
        "\n",
        "A dropout is specified after each set with an increasing rate of 20, 30, 40 and 50% after those sets."
      ]
    },
    {
      "cell_type": "markdown",
      "metadata": {
        "id": "L6KC-Mchfc2v"
      },
      "source": [
        "Then, Dense layers of 128 Neurons are added with ReLU activation.\n",
        "\n",
        "Finally an output layer with 10 Neurons are added with softmax activation. The final layer has 10 nodes/neurons since we have 10 classes for each class."
      ]
    },
    {
      "cell_type": "markdown",
      "metadata": {
        "id": "bCEaDD7S34Z0"
      },
      "source": [
        "#### **Model Summary**"
      ]
    },
    {
      "cell_type": "markdown",
      "metadata": {
        "id": "xVSNTTwO3_9e"
      },
      "source": [
        "Occasionally we'll come accross the terms \"number of parameters\". Now we'll try to display the number of parameters in our network that need to be trained along with the layer information for each layer. Basically model.summary() method summarizes all this. "
      ]
    },
    {
      "cell_type": "code",
      "metadata": {
        "colab": {
          "base_uri": "https://localhost:8080/"
        },
        "id": "W5wKrqPV6KNZ",
        "outputId": "cb7717c5-ed9e-4e00-966b-ee0a1f8dfc80"
      },
      "source": [
        "model.summary()"
      ],
      "execution_count": null,
      "outputs": [
        {
          "output_type": "stream",
          "text": [
            "Model: \"sequential\"\n",
            "_________________________________________________________________\n",
            "Layer (type)                 Output Shape              Param #   \n",
            "=================================================================\n",
            "conv2d (Conv2D)              (None, 32, 32, 32)        896       \n",
            "_________________________________________________________________\n",
            "batch_normalization (BatchNo (None, 32, 32, 32)        128       \n",
            "_________________________________________________________________\n",
            "conv2d_1 (Conv2D)            (None, 32, 32, 32)        9248      \n",
            "_________________________________________________________________\n",
            "batch_normalization_1 (Batch (None, 32, 32, 32)        128       \n",
            "_________________________________________________________________\n",
            "max_pooling2d (MaxPooling2D) (None, 16, 16, 32)        0         \n",
            "_________________________________________________________________\n",
            "dropout (Dropout)            (None, 16, 16, 32)        0         \n",
            "_________________________________________________________________\n",
            "conv2d_2 (Conv2D)            (None, 16, 16, 64)        18496     \n",
            "_________________________________________________________________\n",
            "batch_normalization_2 (Batch (None, 16, 16, 64)        256       \n",
            "_________________________________________________________________\n",
            "conv2d_3 (Conv2D)            (None, 16, 16, 64)        36928     \n",
            "_________________________________________________________________\n",
            "batch_normalization_3 (Batch (None, 16, 16, 64)        256       \n",
            "_________________________________________________________________\n",
            "max_pooling2d_1 (MaxPooling2 (None, 8, 8, 64)          0         \n",
            "_________________________________________________________________\n",
            "dropout_1 (Dropout)          (None, 8, 8, 64)          0         \n",
            "_________________________________________________________________\n",
            "conv2d_4 (Conv2D)            (None, 8, 8, 128)         73856     \n",
            "_________________________________________________________________\n",
            "batch_normalization_4 (Batch (None, 8, 8, 128)         512       \n",
            "_________________________________________________________________\n",
            "conv2d_5 (Conv2D)            (None, 8, 8, 128)         147584    \n",
            "_________________________________________________________________\n",
            "batch_normalization_5 (Batch (None, 8, 8, 128)         512       \n",
            "_________________________________________________________________\n",
            "max_pooling2d_2 (MaxPooling2 (None, 4, 4, 128)         0         \n",
            "_________________________________________________________________\n",
            "dropout_2 (Dropout)          (None, 4, 4, 128)         0         \n",
            "_________________________________________________________________\n",
            "flatten (Flatten)            (None, 2048)              0         \n",
            "_________________________________________________________________\n",
            "dense (Dense)                (None, 128)               262272    \n",
            "_________________________________________________________________\n",
            "batch_normalization_6 (Batch (None, 128)               512       \n",
            "_________________________________________________________________\n",
            "dropout_3 (Dropout)          (None, 128)               0         \n",
            "_________________________________________________________________\n",
            "dense_1 (Dense)              (None, 10)                1290      \n",
            "=================================================================\n",
            "Total params: 552,874\n",
            "Trainable params: 551,722\n",
            "Non-trainable params: 1,152\n",
            "_________________________________________________________________\n"
          ],
          "name": "stdout"
        }
      ]
    },
    {
      "cell_type": "markdown",
      "metadata": {
        "id": "vI0yB6FpmWBh"
      },
      "source": [
        "## **6.Compiling and Training the Model**"
      ]
    },
    {
      "cell_type": "markdown",
      "metadata": {
        "id": "QlzY_4KGpzu6"
      },
      "source": [
        "#### **Saving and Reusing the model**"
      ]
    },
    {
      "cell_type": "markdown",
      "metadata": {
        "id": "EnNozygvqCXd"
      },
      "source": [
        "Saving the Trained model is a very handy step, as we don't have to train the model again just for predicting it, and is usually done for models which take very long time to train, as in this model. So the model once trained and saved can be used any number of times to evaluate and predict. \n",
        "\n",
        "*The model is already Trained, thus we'll load the saved model.* It had achieved a test accuracy of 82- 86%\n",
        "\n",
        "If you want to train the model by yourself, do it as you please. But remember it'll take a while to train many epochs to get a higher accuracy."
      ]
    },
    {
      "cell_type": "code",
      "metadata": {
        "id": "droWoGrbyHXF",
        "colab": {
          "base_uri": "https://localhost:8080/"
        },
        "outputId": "54067c25-898b-4b3a-c403-c9ffdf8c8086"
      },
      "source": [
        "#Loading the saved model \n",
        "try:\n",
        "  saved_model = models.load_model(\"drive/MyDrive/Content/Sreeram/SavedModel/my_model\")\n",
        "  print(\"Model Loaded!\")\n",
        "except NameError: \n",
        "  print(\"Error: Please Re-Run the complete code\")\n",
        "except:\n",
        "  print(\"Model was not saved before, please Train the model\")\n",
        "\n",
        "# Now we don't have to Train again and we can directly go and evaluate and predict our Model"
      ],
      "execution_count": null,
      "outputs": [
        {
          "output_type": "stream",
          "text": [
            "Model Loaded!\n"
          ],
          "name": "stdout"
        }
      ]
    },
    {
      "cell_type": "markdown",
      "metadata": {
        "id": "aj88jRYs00LL"
      },
      "source": [
        "The above code will try to load the model if available. You should skip the Training, that is the next few code blocks if you don't want to train and directly go to the **Evaluation Step**. Run all the below cells if you want to train it."
      ]
    },
    {
      "cell_type": "markdown",
      "metadata": {
        "id": "Nc6sO72OBYkv"
      },
      "source": [
        "#### **Compiling**"
      ]
    },
    {
      "cell_type": "markdown",
      "metadata": {
        "id": "uSu2epvEjX-R"
      },
      "source": [
        "The Physical Network Structure was added, but we need to instruct our network how it is going to be trained.\n",
        "\n",
        "The model.compile() method is used to specify these arguments.\n",
        "\n",
        "It significantly contains three arguments- 1. optimizer: The algorithm to be used (such as SGD for Stochastic Gradient Descent), 2: Loss: The Loss function, 3. Metrics: The metrics that need to be displayed while the model is training.\n",
        "\n",
        "We have taken slightly modified adam optimizer or Stochastic Gradient Descent with some momentum(Try both of them and compare the accuracies), sparse_categorical_crossentropy loss and accuracy metrics. Adam with a changed learning rate and enabling logits for the SCC loss. \n",
        "*The from_logits=True attribute inform the loss function that the output values generated by the model are not normalized, a.k.a. logits.*"
      ]
    },
    {
      "cell_type": "code",
      "metadata": {
        "id": "CPEtrQE4q-86"
      },
      "source": [
        "#Skip this if Using saved model\n",
        "\n",
        "#Let's take Adam optimizer with a slower learning rate of 0.0001 (Default is 0.001) or SGD with Momentum\n",
        "opt1 = optimizers.Adam(learning_rate=0.01)\n",
        "opt2 = optimizers.SGD(learning_rate=0.001, momentum=0.9)\n",
        "\n",
        "#Let's take Sparse Categorical Crossentropy loss function\n",
        "lf = tf.keras.losses.SparseCategoricalCrossentropy(from_logits=True)\n",
        "\n",
        "#compiling the model\n",
        "model.compile(optimizer= opt1,\n",
        "              loss= lf,\n",
        "              metrics=['accuracy'])"
      ],
      "execution_count": null,
      "outputs": []
    },
    {
      "cell_type": "markdown",
      "metadata": {
        "id": "-vYOUrVckd2U"
      },
      "source": [
        "\n",
        "Now the training begins! model.fit() method handles training. Now the input data - x_train and y_train are fed into the model. \n",
        "\n",
        "We train the model for 10 epochs. \n",
        "Training the model takes more time as compared to other code blocks. "
      ]
    },
    {
      "cell_type": "markdown",
      "metadata": {
        "id": "yq_3GJDnP7ZD"
      },
      "source": [
        "#### **Training**"
      ]
    },
    {
      "cell_type": "code",
      "metadata": {
        "colab": {
          "base_uri": "https://localhost:8080/"
        },
        "id": "6tBc40Ph6OxN",
        "outputId": "f37189b6-5a90-4fde-e566-e0afe8ed670f"
      },
      "source": [
        "#Run if you want to train the network, else skip if using saved model\n",
        "history = model.fit(x_train, y_train, epochs=40, \n",
        "                    validation_data=(x_test, y_test))\n",
        "\n",
        "model.save(\"drive/MyDrive/Content/Sreeram/SavedModel/my_model\")\n",
        "\n",
        "new_model = model"
      ],
      "execution_count": null,
      "outputs": [
        {
          "output_type": "stream",
          "text": [
            "Epoch 1/40\n",
            "1563/1563 [==============================] - 411s 262ms/step - loss: 1.8351 - accuracy: 0.3537 - val_loss: 1.1349 - val_accuracy: 0.5953\n",
            "Epoch 2/40\n",
            "1563/1563 [==============================] - 403s 258ms/step - loss: 1.1033 - accuracy: 0.6131 - val_loss: 0.9995 - val_accuracy: 0.6685\n",
            "Epoch 3/40\n",
            "1563/1563 [==============================] - 404s 259ms/step - loss: 0.9269 - accuracy: 0.6809 - val_loss: 0.8080 - val_accuracy: 0.7218\n",
            "Epoch 4/40\n",
            "1563/1563 [==============================] - 403s 258ms/step - loss: 0.8271 - accuracy: 0.7175 - val_loss: 0.7361 - val_accuracy: 0.7492\n",
            "Epoch 5/40\n",
            "1563/1563 [==============================] - 403s 258ms/step - loss: 0.7796 - accuracy: 0.7362 - val_loss: 0.7432 - val_accuracy: 0.7503\n",
            "Epoch 6/40\n",
            "1563/1563 [==============================] - 412s 264ms/step - loss: 0.7124 - accuracy: 0.7599 - val_loss: 0.6021 - val_accuracy: 0.7960\n",
            "Epoch 7/40\n",
            "1563/1563 [==============================] - 412s 263ms/step - loss: 0.6760 - accuracy: 0.7687 - val_loss: 0.6632 - val_accuracy: 0.7812\n",
            "Epoch 8/40\n",
            "1563/1563 [==============================] - 418s 268ms/step - loss: 0.6486 - accuracy: 0.7813 - val_loss: 0.5903 - val_accuracy: 0.8036\n",
            "Epoch 9/40\n",
            "1563/1563 [==============================] - 424s 272ms/step - loss: 0.6005 - accuracy: 0.7954 - val_loss: 0.5888 - val_accuracy: 0.8025\n",
            "Epoch 10/40\n",
            "1563/1563 [==============================] - 425s 272ms/step - loss: 0.5706 - accuracy: 0.8054 - val_loss: 0.5388 - val_accuracy: 0.8221\n",
            "Epoch 11/40\n",
            "1563/1563 [==============================] - 425s 272ms/step - loss: 0.5615 - accuracy: 0.8120 - val_loss: 0.6310 - val_accuracy: 0.7860\n",
            "Epoch 12/40\n",
            "1563/1563 [==============================] - 423s 271ms/step - loss: 0.5266 - accuracy: 0.8221 - val_loss: 0.6160 - val_accuracy: 0.7888\n",
            "Epoch 13/40\n",
            "1563/1563 [==============================] - 420s 269ms/step - loss: 0.5172 - accuracy: 0.8231 - val_loss: 0.5926 - val_accuracy: 0.7978\n",
            "Epoch 14/40\n",
            "1563/1563 [==============================] - 418s 268ms/step - loss: 0.4934 - accuracy: 0.8333 - val_loss: 0.5584 - val_accuracy: 0.8125\n",
            "Epoch 15/40\n",
            "1563/1563 [==============================] - 425s 272ms/step - loss: 0.4864 - accuracy: 0.8385 - val_loss: 0.4882 - val_accuracy: 0.8333\n",
            "Epoch 16/40\n",
            "1563/1563 [==============================] - 423s 271ms/step - loss: 0.4686 - accuracy: 0.8412 - val_loss: 0.5112 - val_accuracy: 0.8331\n",
            "Epoch 17/40\n",
            "1563/1563 [==============================] - 442s 283ms/step - loss: 0.4631 - accuracy: 0.8434 - val_loss: 0.5263 - val_accuracy: 0.8273\n",
            "Epoch 18/40\n",
            "1563/1563 [==============================] - 442s 283ms/step - loss: 0.4475 - accuracy: 0.8503 - val_loss: 0.4841 - val_accuracy: 0.8392\n",
            "Epoch 19/40\n",
            "1563/1563 [==============================] - 443s 283ms/step - loss: 0.4277 - accuracy: 0.8563 - val_loss: 0.4954 - val_accuracy: 0.8411\n",
            "Epoch 20/40\n",
            "1563/1563 [==============================] - 444s 284ms/step - loss: 0.4197 - accuracy: 0.8592 - val_loss: 0.5446 - val_accuracy: 0.8273\n",
            "Epoch 21/40\n",
            "1563/1563 [==============================] - 446s 286ms/step - loss: 0.4109 - accuracy: 0.8601 - val_loss: 0.4692 - val_accuracy: 0.8458\n",
            "Epoch 22/40\n",
            "1563/1563 [==============================] - 445s 284ms/step - loss: 0.3950 - accuracy: 0.8665 - val_loss: 0.4750 - val_accuracy: 0.8448\n",
            "Epoch 23/40\n",
            "1563/1563 [==============================] - 430s 275ms/step - loss: 0.3935 - accuracy: 0.8676 - val_loss: 0.5079 - val_accuracy: 0.8344\n",
            "Epoch 24/40\n",
            "1563/1563 [==============================] - 418s 268ms/step - loss: 0.3874 - accuracy: 0.8689 - val_loss: 0.4992 - val_accuracy: 0.8424\n",
            "Epoch 25/40\n",
            "1563/1563 [==============================] - 428s 274ms/step - loss: 0.3851 - accuracy: 0.8689 - val_loss: 0.5528 - val_accuracy: 0.8260\n",
            "Epoch 26/40\n",
            "1563/1563 [==============================] - 447s 286ms/step - loss: 0.3753 - accuracy: 0.8727 - val_loss: 0.4848 - val_accuracy: 0.8494\n",
            "Epoch 27/40\n",
            "1563/1563 [==============================] - 423s 271ms/step - loss: 0.3727 - accuracy: 0.8752 - val_loss: 0.4523 - val_accuracy: 0.8533\n",
            "Epoch 28/40\n",
            "1563/1563 [==============================] - 429s 275ms/step - loss: 0.3508 - accuracy: 0.8801 - val_loss: 0.4654 - val_accuracy: 0.8525\n",
            "Epoch 29/40\n",
            "1563/1563 [==============================] - 425s 272ms/step - loss: 0.3542 - accuracy: 0.8821 - val_loss: 0.4500 - val_accuracy: 0.8570\n",
            "Epoch 30/40\n",
            "1563/1563 [==============================] - 435s 278ms/step - loss: 0.3491 - accuracy: 0.8822 - val_loss: 0.5165 - val_accuracy: 0.8378\n",
            "Epoch 31/40\n",
            "1563/1563 [==============================] - 428s 274ms/step - loss: 0.3371 - accuracy: 0.8840 - val_loss: 0.4572 - val_accuracy: 0.8586\n",
            "Epoch 32/40\n",
            "1563/1563 [==============================] - 431s 276ms/step - loss: 0.3352 - accuracy: 0.8869 - val_loss: 0.4574 - val_accuracy: 0.8542\n",
            "Epoch 33/40\n",
            "1563/1563 [==============================] - 435s 278ms/step - loss: 0.3319 - accuracy: 0.8883 - val_loss: 0.4851 - val_accuracy: 0.8483\n",
            "Epoch 34/40\n",
            "1563/1563 [==============================] - 443s 283ms/step - loss: 0.3261 - accuracy: 0.8889 - val_loss: 0.4857 - val_accuracy: 0.8509\n",
            "Epoch 35/40\n",
            "1563/1563 [==============================] - 448s 286ms/step - loss: 0.3299 - accuracy: 0.8879 - val_loss: 0.4697 - val_accuracy: 0.8518\n",
            "Epoch 36/40\n",
            "1563/1563 [==============================] - 447s 286ms/step - loss: 0.3107 - accuracy: 0.8953 - val_loss: 0.4807 - val_accuracy: 0.8523\n",
            "Epoch 37/40\n",
            "1563/1563 [==============================] - 436s 279ms/step - loss: 0.3134 - accuracy: 0.8938 - val_loss: 0.5009 - val_accuracy: 0.8482\n",
            "Epoch 38/40\n",
            "1563/1563 [==============================] - 418s 268ms/step - loss: 0.3098 - accuracy: 0.8947 - val_loss: 0.4619 - val_accuracy: 0.8567\n",
            "Epoch 39/40\n",
            "1563/1563 [==============================] - 430s 275ms/step - loss: 0.3079 - accuracy: 0.8960 - val_loss: 0.4655 - val_accuracy: 0.8595\n",
            "Epoch 40/40\n",
            "1563/1563 [==============================] - 433s 277ms/step - loss: 0.2981 - accuracy: 0.8998 - val_loss: 0.5219 - val_accuracy: 0.8511\n",
            "INFO:tensorflow:Assets written to: drive/MyDrive/Content/Sreeram/Notebook 4/SavedModel/my_model/assets\n"
          ],
          "name": "stdout"
        }
      ]
    },
    {
      "cell_type": "markdown",
      "metadata": {
        "id": "a5KhLgzY5jO_"
      },
      "source": [
        "#### **Training History.**"
      ]
    },
    {
      "cell_type": "markdown",
      "metadata": {
        "id": "_ziSgmk151Tu"
      },
      "source": [
        "To have a visual understanding on how the model trained between the epochs, let's try to plot the graph of training and validation accuracy. \n",
        "\n",
        "Validation data is usually a small split in test data occasionally used to observe the trend in the training process.\n",
        "\n",
        "In our example, we have directly taken the test data for the purpose of simplicity."
      ]
    },
    {
      "cell_type": "markdown",
      "metadata": {
        "id": "Bvy3sg5C6xf0"
      },
      "source": [
        "model.fit() method returns history object, which has a dictionary holding the history of all the accuracies we need and have mentioned."
      ]
    },
    {
      "cell_type": "markdown",
      "metadata": {
        "id": "FqCsymK66yTc"
      },
      "source": [
        "##### Plotting the history"
      ]
    },
    {
      "cell_type": "code",
      "metadata": {
        "colab": {
          "base_uri": "https://localhost:8080/",
          "height": 300
        },
        "id": "8OXYVwvO6Uqz",
        "outputId": "94705f7c-58ab-4824-cbbf-edf49afe36f2"
      },
      "source": [
        "#Skip this too if using saved model\n",
        "\n",
        "plt.plot(history.history['accuracy'], label='accuracy')\n",
        "plt.plot(history.history['val_accuracy'], label = 'val_accuracy')\n",
        "plt.xlabel('Epoch')\n",
        "plt.ylabel('Accuracy')\n",
        "plt.ylim([0.3, 1])\n",
        "plt.legend(loc='lower right')\n"
      ],
      "execution_count": null,
      "outputs": [
        {
          "output_type": "execute_result",
          "data": {
            "text/plain": [
              "<matplotlib.legend.Legend at 0x7efbe1963d10>"
            ]
          },
          "metadata": {
            "tags": []
          },
          "execution_count": 20
        },
        {
          "output_type": "display_data",
          "data": {
            "image/png": "[encoded data removed]",
            "text/plain": [
              "<Figure size 432x288 with 1 Axes>"
            ]
          },
          "metadata": {
            "tags": [],
            "needs_background": "light"
          }
        }
      ]
    },
    {
      "cell_type": "markdown",
      "metadata": {
        "id": "M_a9gZwHmc7d"
      },
      "source": [
        "## **7. Evaluating the Model**"
      ]
    },
    {
      "cell_type": "markdown",
      "metadata": {
        "id": "LaSAu9PllUxZ"
      },
      "source": [
        "Now after the Training step, we need to evaluate the model on unseen data- that is the test data. \n",
        "\n",
        "model.evaluate() method will handle the evaluation when it is fed with test data or x_test and y_test."
      ]
    },
    {
      "cell_type": "code",
      "metadata": {
        "id": "i24F9kiLWk2Z",
        "colab": {
          "base_uri": "https://localhost:8080/"
        },
        "outputId": "40c15512-27ad-4a53-f7dc-0a115d7918f1"
      },
      "source": [
        "#model = saved_model  # Uncomment this line if using Saved model\n",
        "_ , acc = model.evaluate(x_test, y_test)\n",
        "\n",
        "print(\"The Accuracy on the testing data is: \",acc*100,\"%\")"
      ],
      "execution_count": null,
      "outputs": [
        {
          "output_type": "stream",
          "text": [
            "313/313 [==============================] - 19s 59ms/step - loss: 0.5219 - accuracy: 0.8511\n",
            "The Accuracy on the testing data is:  85.11000275611877 %\n"
          ],
          "name": "stdout"
        }
      ]
    },
    {
      "cell_type": "markdown",
      "metadata": {
        "id": "d2jeheX9miFh"
      },
      "source": [
        "### **Predicting**"
      ]
    },
    {
      "cell_type": "markdown",
      "metadata": {
        "id": "Vpg2TYKultYr"
      },
      "source": [
        "Next is the most interesting part of the process, that is predicting the class of an unseen image.\n",
        "\n",
        "model.predict() method will take a single sample/image and produce the output in the form of an array since we have 10 outputs. The array will have the probabilities of the image belonging to each class.\n",
        "For example, if the class of an image is 5, the array will have probabilities of the 6th element (array starts from 0) higher than the other elements.\n"
      ]
    },
    {
      "cell_type": "markdown",
      "metadata": {
        "id": "v8WNEsbpoT86"
      },
      "source": [
        "Let us Display the Image and predict the image which gives us the predicted array. Remember to reshape the input image of the test data as we only reshaped the training data previously, since keras models work only with 4D tensors.\n",
        "\n",
        "To get the prediction from the array, we need to get the index of the highest probability in the array. This can be done by argmax() method of numpy arrays."
      ]
    },
    {
      "cell_type": "code",
      "metadata": {
        "id": "xczkOVAhp_T9"
      },
      "source": [
        "import numpy as np\n",
        "list1 = np.array([0, 54, 87, 13, 12, 99, 14, 45])\n",
        "print(\"The index of the highest element is: \", list1.argmax())"
      ],
      "execution_count": null,
      "outputs": []
    },
    {
      "cell_type": "code",
      "metadata": {
        "id": "shhLSIFeWl9m",
        "colab": {
          "base_uri": "https://localhost:8080/",
          "height": 619
        },
        "outputId": "ff40cc7d-3cf7-4269-a601-782a7ef83f7f"
      },
      "source": [
        "#class_names = ['Airplane', 'Automobile', 'Bird', 'Cat', 'Deer',\n",
        "#               'Dog', 'Frog', 'Horse', 'Ship', 'Truck']\n",
        "#keep this for reference to the predicted array\n",
        "\n",
        "image_index = random.randint(0,10000) # Or enter an index manually\n",
        "#image_index = 1337\n",
        "plt.imshow(x_test[image_index],cmap='Greys')\n",
        "\n",
        "pred = model.predict(x_test[image_index].reshape(1, 32, 32, 3))\n",
        "print(\"The Predicted Array is: \",pred,'\\n')\n",
        "\n",
        "#Let's check the probabilities for each class\n",
        "print(\"Class : Probability\", end='\\n\\n')\n",
        "for i in range(10):\n",
        "  print(\"{0} : {1:0.2f}%\".format(class_names[i], pred[0][i]*100))\n",
        "\n",
        "\n",
        "print(\"\\nThe Predicted class is: '\",class_names[pred.argmax()],\"' with a probability of\", pred[0][pred.argmax()]*100,\"%\\n\")\n",
        "print(\"The Actual class is: \",class_names[y_test[image_index][0]],'\\n\\n')\n"
      ],
      "execution_count": null,
      "outputs": [
        {
          "output_type": "stream",
          "text": [
            "The Predicted Array is:  [[2.3413544e-14 1.0000000e+00 3.1578108e-16 1.4674825e-16 2.4706823e-17\n",
            "  9.2647273e-17 2.6434708e-13 2.2420353e-16 2.8783871e-11 2.7458534e-11]] \n",
            "\n",
            "Class : Probability\n",
            "\n",
            "Airplane : 0.00%\n",
            "Automobile : 100.00%\n",
            "Bird : 0.00%\n",
            "Cat : 0.00%\n",
            "Deer : 0.00%\n",
            "Dog : 0.00%\n",
            "Frog : 0.00%\n",
            "Horse : 0.00%\n",
            "Ship : 0.00%\n",
            "Truck : 0.00%\n",
            "\n",
            "The Predicted class is: ' Automobile ' with a probability of 100.0 %\n",
            "\n",
            "The Actual class is:  Automobile \n",
            "\n",
            "\n"
          ],
          "name": "stdout"
        },
        {
          "output_type": "display_data",
          "data": {
            "image/png": "[encoded data removed]",
            "text/plain": [
              "<Figure size 432x288 with 1 Axes>"
            ]
          },
          "metadata": {
            "tags": [],
            "needs_background": "light"
          }
        }
      ]
    },
    {
      "cell_type": "markdown",
      "metadata": {
        "id": "MufOXerhrNwj"
      },
      "source": [
        "> Try to observe the percentages of the other classes too, as you might find high probabilities for similar looking objects, such as dog and cat."
      ]
    },
    {
      "cell_type": "markdown",
      "metadata": {
        "id": "Hzj0eWoC9FwT"
      },
      "source": [
        "---"
      ]
    }
  ]
}