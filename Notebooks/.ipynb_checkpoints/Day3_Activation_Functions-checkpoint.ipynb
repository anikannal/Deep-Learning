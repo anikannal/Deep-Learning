{
 "cells": [
  {
   "cell_type": "markdown",
   "metadata": {
    "id": "x1jMhU4_KZZ8"
   },
   "source": [
    "#Activation function\n",
    "\n",
    "---\n",
    "\n",
    "\n",
    "\n",
    "Now that we have a brief idea about neural networks let us see what are activation functions and how to chose them.\n",
    "A neural network has 3 part: **Input layer, Hidden layer, Output layer**.In input layer we pass the input data, in output layer the model predicts the result. In between there are hidden layers where all complex mathematical calculation takes place.\n",
    "\n",
    "The job of the activation function is to decide that whether the information that the neuron is receiving is relevant for prediction or should be ignored."
   ]
  },
  {
   "cell_type": "markdown",
   "metadata": {
    "id": "Z_JY6GHsLfVo"
   },
   "source": [
    "#Types of activation function\n",
    "\n",
    "---\n",
    "\n",
    "\n",
    "\n",
    "\n",
    "\n",
    "\n",
    "\n",
    "1.   Linear Function\n",
    "2.   Step Function\n",
    "3.   Sigmoid Function\n",
    "4.   Tanh\n",
    "5.   ReLU\n",
    "6.   Softmax\n",
    "\n",
    "\n"
   ]
  },
  {
   "cell_type": "markdown",
   "metadata": {
    "id": "dZ_eT7U8IFSX"
   },
   "source": [
    "#Linear Function\n",
    "\n",
    "---\n",
    "\n",
    "\n",
    "\n",
    "f(x)=ax\n",
    "\n",
    "range: -infnity to +infinty"
   ]
  },
  {
   "cell_type": "markdown",
   "metadata": {
    "colab": {
     "base_uri": "https://localhost:8080/",
     "height": 34
    },
    "executionInfo": {
     "elapsed": 4150,
     "status": "ok",
     "timestamp": 1614786350402,
     "user": {
      "displayName": "Aditya Gupta",
      "photoUrl": "https://lh3.googleusercontent.com/a-/AOh14Gg-ab1CMuB52ERgqQYD99rSaa9VUTDRjYvYHpkx5A=s64",
      "userId": "01588507944926124910"
     },
     "user_tz": -330
    },
    "id": "y5vZmmnYIPem",
    "outputId": "982a0922-9981-45d2-9797-e9b73bcf7d3b"
   },
   "source": [
    "![1.jpg](data:image/webp;base64,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)"
   ]
  },
  {
   "cell_type": "markdown",
   "metadata": {
    "id": "UF8uPec-BAeh"
   },
   "source": [
    "image source-https://www.analyticsvidhya.com/blog/2020/01/fundamentals-deep-learning-activation-functions-when-to-use-them/"
   ]
  },
  {
   "cell_type": "markdown",
   "metadata": {
    "id": "doaJwZVuMlqB"
   },
   "source": [
    "\n",
    "\n",
    "The variable ‘a’ in this case can be any constant value. When we differentiate the function with respect to x, the result is the coefficient of x, which is a constant.\n",
    "\n",
    "f'(x) = a\n",
    "The gradient here does not become zero, but it is a constant which does not depend upon the input value. This implies that the weights and biases will be updated during the backpropagation process but the updating factor would be the same.\n",
    "\n",
    "Hence,the neural network will not really improve the error since the gradient is the same for every iteration. The network will not be able to train well and capture the complex patterns from the data. Hence, linear function might be ideal for simple tasks"
   ]
  },
  {
   "cell_type": "code",
   "execution_count": null,
   "metadata": {
    "colab": {
     "base_uri": "https://localhost:8080/",
     "height": 265
    },
    "executionInfo": {
     "elapsed": 2225,
     "status": "ok",
     "timestamp": 1613201268228,
     "user": {
      "displayName": "Aditya Gupta",
      "photoUrl": "https://lh3.googleusercontent.com/a-/AOh14Gg-ab1CMuB52ERgqQYD99rSaa9VUTDRjYvYHpkx5A=s64",
      "userId": "01588507944926124910"
     },
     "user_tz": -330
    },
    "id": "DRaOpwpfScrb",
    "outputId": "7e43fa3b-e48a-4cdd-e26e-4612b84a8c4e"
   },
   "outputs": [
    {
     "data": {
      "image/png": "[encoded data removed]",
      "text/plain": [
       "<Figure size 432x288 with 1 Axes>"
      ]
     },
     "metadata": {
      "needs_background": "light",
      "tags": []
     },
     "output_type": "display_data"
    }
   ],
   "source": [
    "# example plot for the linear activation function\n",
    "from matplotlib import pyplot      #importing pyplot from matplotlib to plot images\n",
    " \n",
    "# linear activation function\n",
    "def linear(x):\n",
    "\treturn x\n",
    " \n",
    "# define input data\n",
    "inputs = [x for x in range(-10, 10)]\n",
    "# calculate outputs\n",
    "outputs = [linear(x) for x in inputs]\n",
    "# plot inputs vs outputs\n",
    "pyplot.plot(inputs, outputs)\n",
    "pyplot.show()"
   ]
  },
  {
   "cell_type": "markdown",
   "metadata": {
    "id": "1srZTNt7I99g"
   },
   "source": [
    "#Binary step function\n",
    "\n",
    "---\n",
    "\n",
    "\n",
    "\n",
    "f(x) = 1, x>=0\n",
    " and\n",
    "f(x) = 0, x<0\n",
    "\n",
    "range: 0 or 1"
   ]
  },
  {
   "cell_type": "markdown",
   "metadata": {
    "colab": {
     "base_uri": "https://localhost:8080/",
     "height": 34
    },
    "executionInfo": {
     "elapsed": 4134,
     "status": "ok",
     "timestamp": 1614786350405,
     "user": {
      "displayName": "Aditya Gupta",
      "photoUrl": "https://lh3.googleusercontent.com/a-/AOh14Gg-ab1CMuB52ERgqQYD99rSaa9VUTDRjYvYHpkx5A=s64",
      "userId": "01588507944926124910"
     },
     "user_tz": -330
    },
    "id": "dGRZ8iLmI-pS",
    "outputId": "d0cd14b0-cf30-43b7-b2bc-187825288de0"
   },
   "source": [
    "![2.jpg](data:image/png;base64,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)"
   ]
  },
  {
   "cell_type": "markdown",
   "metadata": {
    "id": "ZqjTf4i8BFeQ"
   },
   "source": [
    "image source- https://www.analyticsvidhya.com/blog/2020/01/fundamentals-deep-learning-activation-functions-when-to-use-them/"
   ]
  },
  {
   "cell_type": "markdown",
   "metadata": {
    "id": "F78gyfgBMlen"
   },
   "source": [
    "\n",
    "\n",
    "\n",
    "This activation function is useful when the input pattern can only belong to one or two groups .As you can imagine, this function will not be useful when there are multiple classes in the target variable. That is one of the limitations of binary step function.\n",
    "\n",
    "Moreover, the gradient of the step function is zero which causes a hindrance in the back propagation process. That is, if you calculate the derivative of f(x) with respect to x, it comes out to be 0.\n",
    "\n",
    "f'(x) = 0, for all x\n"
   ]
  },
  {
   "cell_type": "markdown",
   "metadata": {
    "id": "ykmU99rRJrQQ"
   },
   "source": [
    "#Sigmoid Funtion\n",
    "\n",
    "---\n",
    "\n",
    "\n",
    "\n",
    "Equation: y = 1/(1 + e^(-x))\n",
    "\n",
    "Range: 0 to 1"
   ]
  },
  {
   "cell_type": "markdown",
   "metadata": {
    "colab": {
     "base_uri": "https://localhost:8080/",
     "height": 34
    },
    "executionInfo": {
     "elapsed": 4579,
     "status": "ok",
     "timestamp": 1614786350864,
     "user": {
      "displayName": "Aditya Gupta",
      "photoUrl": "https://lh3.googleusercontent.com/a-/AOh14Gg-ab1CMuB52ERgqQYD99rSaa9VUTDRjYvYHpkx5A=s64",
      "userId": "01588507944926124910"
     },
     "user_tz": -330
    },
    "id": "6-YvMRRYJry9",
    "outputId": "2e4546d6-a268-42be-c9ec-121d2efa43bf"
   },
   "source": [
    "![3.jpg](data:image/png;base64,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)"
   ]
  },
  {
   "cell_type": "markdown",
   "metadata": {
    "id": "yxl-ZtIpBHrn"
   },
   "source": [
    "image source- https://www.analyticsvidhya.com/blog/2020/01/fundamentals-deep-learning-activation-functions-when-to-use-them/"
   ]
  },
  {
   "cell_type": "markdown",
   "metadata": {
    "id": "RgipdmijN6Hu"
   },
   "source": [
    "\n",
    "\n",
    " Usually used in output layer of a binary classification, where result is either 0 or 1, as value for sigmoid function lies between 0 and 1 only so, result can be predicted easily to be 1 if value is greater than 0.5 and 0 otherwise"
   ]
  },
  {
   "cell_type": "code",
   "execution_count": null,
   "metadata": {
    "colab": {
     "base_uri": "https://localhost:8080/",
     "height": 265
    },
    "executionInfo": {
     "elapsed": 1188,
     "status": "ok",
     "timestamp": 1613735789298,
     "user": {
      "displayName": "Aditya Gupta",
      "photoUrl": "https://lh3.googleusercontent.com/a-/AOh14Gg-ab1CMuB52ERgqQYD99rSaa9VUTDRjYvYHpkx5A=s64",
      "userId": "01588507944926124910"
     },
     "user_tz": -330
    },
    "id": "v0WWShcwRW8x",
    "outputId": "739ce31d-0830-4cf8-bf0c-3e6ddade5e20"
   },
   "outputs": [
    {
     "data": {
      "image/png": "[encoded data removed]",
      "text/plain": [
       "<Figure size 432x288 with 1 Axes>"
      ]
     },
     "metadata": {
      "needs_background": "light",
      "tags": []
     },
     "output_type": "display_data"
    }
   ],
   "source": [
    "# example plot for the sigmoid activation function\n",
    "from math import exp     #import exp to perform exponential operation from math library\n",
    "from matplotlib import pyplot  #importing pyplot from matplotlib to plot images\n",
    "\n",
    "# defining the sigmoid activation function\n",
    "def sigmoid(x):\n",
    "\treturn 1.0 / (1.0 + exp(-x))\n",
    "\n",
    "# define input data\n",
    "inputs = [x for x in range(-10, 10)]\n",
    "# calculate outputs\n",
    "outputs = [sigmoid(x) for x in inputs]\n",
    "# plot inputs vs outputs\n",
    "pyplot.plot(inputs, outputs)\n",
    "pyplot.show()\n"
   ]
  },
  {
   "cell_type": "markdown",
   "metadata": {
    "id": "PKL0eD_aJhEn"
   },
   "source": [
    "#Tanh function\n",
    "\n",
    "---\n",
    "\n",
    "\n",
    "\n",
    "tanh(x)=2sigmoid(2x)-1    or   2/(1 + e^(-2x)) - 1\n",
    "\n",
    "Range: -1 to 1"
   ]
  },
  {
   "cell_type": "markdown",
   "metadata": {
    "colab": {
     "base_uri": "https://localhost:8080/",
     "height": 34
    },
    "executionInfo": {
     "elapsed": 4568,
     "status": "ok",
     "timestamp": 1614786350867,
     "user": {
      "displayName": "Aditya Gupta",
      "photoUrl": "https://lh3.googleusercontent.com/a-/AOh14Gg-ab1CMuB52ERgqQYD99rSaa9VUTDRjYvYHpkx5A=s64",
      "userId": "01588507944926124910"
     },
     "user_tz": -330
    },
    "id": "T3vr3pFTJhmK",
    "outputId": "1f0513f0-6855-4cd6-aa87-cf3ecfea47ba"
   },
   "source": [
    "![4.jpg](data:image/png;base64,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)"
   ]
  },
  {
   "cell_type": "markdown",
   "metadata": {
    "id": "Iv4nRPYLBKMr"
   },
   "source": [
    "image source- https://www.analyticsvidhya.com/blog/2020/01/fundamentals-deep-learning-activation-functions-when-to-use-them/"
   ]
  },
  {
   "cell_type": "markdown",
   "metadata": {
    "id": "WXN1N_pZN5-o"
   },
   "source": [
    "\n",
    "\n",
    "Usually used in hidden layers of a neural network as it’s values lies between -1 to 1"
   ]
  },
  {
   "cell_type": "code",
   "execution_count": null,
   "metadata": {
    "colab": {
     "base_uri": "https://localhost:8080/",
     "height": 265
    },
    "executionInfo": {
     "elapsed": 5107,
     "status": "ok",
     "timestamp": 1613201039267,
     "user": {
      "displayName": "Aditya Gupta",
      "photoUrl": "https://lh3.googleusercontent.com/a-/AOh14Gg-ab1CMuB52ERgqQYD99rSaa9VUTDRjYvYHpkx5A=s64",
      "userId": "01588507944926124910"
     },
     "user_tz": -330
    },
    "id": "WXBatoFaRj-L",
    "outputId": "64d3b997-d249-4361-de91-145cf50673d0"
   },
   "outputs": [
    {
     "data": {
      "image/png": "[encoded data removed]",
      "text/plain": [
       "<Figure size 432x288 with 1 Axes>"
      ]
     },
     "metadata": {
      "needs_background": "light",
      "tags": []
     },
     "output_type": "display_data"
    }
   ],
   "source": [
    "# example plot for the tanh activation function\n",
    "from math import exp          #import exp to perform exponential operation from math library\n",
    "from matplotlib import pyplot    #importing pyplot from matplotlib to plot images\n",
    " \n",
    "# tanh activation function\n",
    "def tanh(x):\n",
    "\treturn (exp(x) - exp(-x)) / (exp(x) + exp(-x))\n",
    " \n",
    "# define input data\n",
    "inputs = [x for x in range(-10, 10)]\n",
    "# calculate outputs\n",
    "outputs = [tanh(x) for x in inputs]\n",
    "# plot inputs vs outputs\n",
    "pyplot.plot(inputs, outputs)\n",
    "pyplot.show()"
   ]
  },
  {
   "cell_type": "markdown",
   "metadata": {
    "id": "eUjv0D--J9lV"
   },
   "source": [
    "#ReLu function\n",
    "\n",
    "A(x) = max(0,x). It gives an output x if x is positive and 0 otherwise.\n",
    "\n",
    "Range: 0 to +infinty"
   ]
  },
  {
   "cell_type": "markdown",
   "metadata": {
    "colab": {
     "base_uri": "https://localhost:8080/",
     "height": 34
    },
    "executionInfo": {
     "elapsed": 4557,
     "status": "ok",
     "timestamp": 1614786350869,
     "user": {
      "displayName": "Aditya Gupta",
      "photoUrl": "https://lh3.googleusercontent.com/a-/AOh14Gg-ab1CMuB52ERgqQYD99rSaa9VUTDRjYvYHpkx5A=s64",
      "userId": "01588507944926124910"
     },
     "user_tz": -330
    },
    "id": "aW_uGv-MJ-Aj",
    "outputId": "37569b15-82cb-40ea-be0d-cde02b57e7bd"
   },
   "source": [
    "![5.jpg](data:image/png;base64,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)"
   ]
  },
  {
   "cell_type": "markdown",
   "metadata": {
    "id": "KiDaZENdN54Y"
   },
   "source": [
    "\n",
    "\n",
    "For the negative input values, the result is zero, that means the neuron does not get activated. Since only a certain number of neurons are activated, the ReLU function is far more computationally efficient when compared to the sigmoid and tanh function\n",
    "\n"
   ]
  },
  {
   "cell_type": "markdown",
   "metadata": {
    "id": "fCSr0Z1cBNFn"
   },
   "source": [
    "image source- https://www.analyticsvidhya.com/blog/2020/01/fundamentals-deep-learning-activation-functions-when-to-use-them/"
   ]
  },
  {
   "cell_type": "code",
   "execution_count": null,
   "metadata": {
    "colab": {
     "base_uri": "https://localhost:8080/",
     "height": 265
    },
    "executionInfo": {
     "elapsed": 3675,
     "status": "ok",
     "timestamp": 1613200948685,
     "user": {
      "displayName": "Aditya Gupta",
      "photoUrl": "https://lh3.googleusercontent.com/a-/AOh14Gg-ab1CMuB52ERgqQYD99rSaa9VUTDRjYvYHpkx5A=s64",
      "userId": "01588507944926124910"
     },
     "user_tz": -330
    },
    "id": "8bVx88OvRL56",
    "outputId": "3575c863-70be-4aa5-e13e-5e5b492eb77a"
   },
   "outputs": [
    {
     "data": {
      "image/png": "[encoded data removed]",
      "text/plain": [
       "<Figure size 432x288 with 1 Axes>"
      ]
     },
     "metadata": {
      "needs_background": "light",
      "tags": []
     },
     "output_type": "display_data"
    }
   ],
   "source": [
    "# example plot for the relu activation function\n",
    "from matplotlib import pyplot       #importing pyplot from matplotlib to plot images\n",
    " \n",
    "# rectified linear function\n",
    "def rectified(x):\n",
    "\treturn max(0.0, x)\n",
    " \n",
    "# define input data\n",
    "inputs = [x for x in range(-10, 10)]\n",
    "# calculate outputs\n",
    "outputs = [rectified(x) for x in inputs]\n",
    "# plot inputs vs outputs\n",
    "pyplot.plot(inputs, outputs)\n",
    "pyplot.show()"
   ]
  },
  {
   "cell_type": "markdown",
   "metadata": {
    "id": "pG_4f5PnKK8x"
   },
   "source": [
    "#Softmax function\n",
    "\n",
    "---\n",
    "\n",
    "\n",
    "Softmax function is often described as a combination of multiple sigmoids."
   ]
  },
  {
   "cell_type": "markdown",
   "metadata": {
    "colab": {
     "base_uri": "https://localhost:8080/",
     "height": 34
    },
    "executionInfo": {
     "elapsed": 4546,
     "status": "ok",
     "timestamp": 1614786350871,
     "user": {
      "displayName": "Aditya Gupta",
      "photoUrl": "https://lh3.googleusercontent.com/a-/AOh14Gg-ab1CMuB52ERgqQYD99rSaa9VUTDRjYvYHpkx5A=s64",
      "userId": "01588507944926124910"
     },
     "user_tz": -330
    },
    "id": "jfLJTWA5KLXr",
    "outputId": "7219dad3-596b-4341-ea8f-ad2108de0474"
   },
   "source": [
    "![6.jpg](data:image/webp;base64,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)"
   ]
  },
  {
   "cell_type": "markdown",
   "metadata": {
    "id": "V4GZNOOhBcia"
   },
   "source": [
    "image source- https://seongjuhong.com/2019-12-05pm-softmax-function/"
   ]
  },
  {
   "cell_type": "markdown",
   "metadata": {
    "id": "kNm6dvYDN5wm"
   },
   "source": [
    "\n",
    "\n",
    "Suppose you got the output from the neurons as [1.2 , 0.9 , 0.75].\n",
    "\n",
    "Applying the softmax function over these values, you will get the following result – [0.42 ,  0.31, 0.27]. These represent the probability for the data point belonging to each class.The softmax function outputs a vector of values that sum to 1.0"
   ]
  },
  {
   "cell_type": "code",
   "execution_count": null,
   "metadata": {
    "colab": {
     "base_uri": "https://localhost:8080/"
    },
    "executionInfo": {
     "elapsed": 2286,
     "status": "ok",
     "timestamp": 1613201473212,
     "user": {
      "displayName": "Aditya Gupta",
      "photoUrl": "https://lh3.googleusercontent.com/a-/AOh14Gg-ab1CMuB52ERgqQYD99rSaa9VUTDRjYvYHpkx5A=s64",
      "userId": "01588507944926124910"
     },
     "user_tz": -330
    },
    "id": "OdJzMY5jIt42",
    "outputId": "4518b80c-b161-4509-f83f-a8e46cd6fbb7"
   },
   "outputs": [
    {
     "name": "stdout",
     "output_type": "stream",
     "text": [
      "[0.42044253 0.31147148 0.26808599]\n",
      "1.0\n"
     ]
    }
   ],
   "source": [
    "from numpy import exp           #import exp to perform exponential operation from math library\n",
    " \n",
    "# softmax activation function\n",
    "def softmax(x):\n",
    "\treturn exp(x) / exp(x).sum()\n",
    " \n",
    "# define input data\n",
    "inputs = [1.2, 0.9,0.75]\n",
    "# calculate outputs\n",
    "outputs = softmax(inputs)\n",
    "# report the probabilities\n",
    "print(outputs)\n",
    "# report the sum of the probabilities\n",
    "print(outputs.sum())"
   ]
  },
  {
   "cell_type": "markdown",
   "metadata": {
    "id": "bpYRj-jiKm5t"
   },
   "source": [
    "So to quickly sum it up let us see where to use which actiavtion function\n",
    "\n",
    "\n",
    "\n",
    "1.   Activation for Hidden Layers\n",
    "2.   Activation for Output Layers\n",
    "\n",
    "##For hidden layers\n",
    "\n",
    "---\n",
    "\n",
    "\n",
    "Typically, a differentiable nonlinear activation function is used in the hidden layers of a neural network. This allows the model to learn more complex functions than a network trained using a linear activation function.\n",
    "\n",
    "There are perhaps the most commonly used activation functions in hidden layers, they are:\n",
    "*   Rectified Linear Activation (ReLU)\n",
    "*   Sigmoid\n",
    "*   Tanh\n",
    "\n"
   ]
  },
  {
   "cell_type": "markdown",
   "metadata": {
    "id": "mAYcrtfDLAEk"
   },
   "source": [
    "# For output layers\n",
    "\n",
    "---\n",
    "\n",
    "\n",
    "\n",
    "The most commonly used activation functions for output layers are:\n",
    "\n",
    "1.  Linear\n",
    "2.  Sigmoid\n",
    "3.  Softmax\n",
    "\n",
    "\n",
    "The activation for output layer must be chosen based on the type of problem.\n",
    "For example, you may divide prediction problems into two main groups, predicting a categorical variable (classification) and predicting a numerical variable (regression).\n",
    "\n",
    "1. Binary Classification: One node, sigmoid activation.\n",
    "2. Multiclass Classification: One node per class, softmax activation.\n",
    "3. Multilabel Classification: One node per class, sigmoid activation.\n",
    "4. Regression: One node, linear activation."
   ]
  },
  {
   "cell_type": "markdown",
   "metadata": {
    "id": "l0BEagodDm6k"
   },
   "source": [
    "You can go through [this link](https://machinelearningmastery.com/choose-an-activation-function-for-deep-learning/) to know more about how to choose the activation function"
   ]
  }
 ],
 "metadata": {
  "colab": {
   "collapsed_sections": [],
   "name": "Day3_Activation_Functions.ipynb",
   "provenance": []
  },
  "kernelspec": {
   "display_name": "Python 3",
   "language": "python",
   "name": "python3"
  },
  "language_info": {
   "codemirror_mode": {
    "name": "ipython",
    "version": 3
   },
   "file_extension": ".py",
   "mimetype": "text/x-python",
   "name": "python",
   "nbconvert_exporter": "python",
   "pygments_lexer": "ipython3",
   "version": "3.8.5"
  }
 },
 "nbformat": 4,
 "nbformat_minor": 1
}
